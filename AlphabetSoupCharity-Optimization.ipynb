{
 "cells": [
  {
   "cell_type": "markdown",
   "metadata": {},
   "source": [
    "### Deliverable 1: Preprocessing the Data for a Neural Network"
   ]
  },
  {
   "cell_type": "code",
   "execution_count": 1,
   "metadata": {},
   "outputs": [
    {
     "data": {
      "text/html": [
       "<div>\n",
       "<style scoped>\n",
       "    .dataframe tbody tr th:only-of-type {\n",
       "        vertical-align: middle;\n",
       "    }\n",
       "\n",
       "    .dataframe tbody tr th {\n",
       "        vertical-align: top;\n",
       "    }\n",
       "\n",
       "    .dataframe thead th {\n",
       "        text-align: right;\n",
       "    }\n",
       "</style>\n",
       "<table border=\"1\" class=\"dataframe\">\n",
       "  <thead>\n",
       "    <tr style=\"text-align: right;\">\n",
       "      <th></th>\n",
       "      <th>EIN</th>\n",
       "      <th>NAME</th>\n",
       "      <th>APPLICATION_TYPE</th>\n",
       "      <th>AFFILIATION</th>\n",
       "      <th>CLASSIFICATION</th>\n",
       "      <th>USE_CASE</th>\n",
       "      <th>ORGANIZATION</th>\n",
       "      <th>STATUS</th>\n",
       "      <th>INCOME_AMT</th>\n",
       "      <th>SPECIAL_CONSIDERATIONS</th>\n",
       "      <th>ASK_AMT</th>\n",
       "      <th>IS_SUCCESSFUL</th>\n",
       "    </tr>\n",
       "  </thead>\n",
       "  <tbody>\n",
       "    <tr>\n",
       "      <th>0</th>\n",
       "      <td>10520599</td>\n",
       "      <td>BLUE KNIGHTS MOTORCYCLE CLUB</td>\n",
       "      <td>T10</td>\n",
       "      <td>Independent</td>\n",
       "      <td>C1000</td>\n",
       "      <td>ProductDev</td>\n",
       "      <td>Association</td>\n",
       "      <td>1</td>\n",
       "      <td>0</td>\n",
       "      <td>N</td>\n",
       "      <td>5000</td>\n",
       "      <td>1</td>\n",
       "    </tr>\n",
       "    <tr>\n",
       "      <th>1</th>\n",
       "      <td>10531628</td>\n",
       "      <td>AMERICAN CHESAPEAKE CLUB CHARITABLE TR</td>\n",
       "      <td>T3</td>\n",
       "      <td>Independent</td>\n",
       "      <td>C2000</td>\n",
       "      <td>Preservation</td>\n",
       "      <td>Co-operative</td>\n",
       "      <td>1</td>\n",
       "      <td>1-9999</td>\n",
       "      <td>N</td>\n",
       "      <td>108590</td>\n",
       "      <td>1</td>\n",
       "    </tr>\n",
       "    <tr>\n",
       "      <th>2</th>\n",
       "      <td>10547893</td>\n",
       "      <td>ST CLOUD PROFESSIONAL FIREFIGHTERS</td>\n",
       "      <td>T5</td>\n",
       "      <td>CompanySponsored</td>\n",
       "      <td>C3000</td>\n",
       "      <td>ProductDev</td>\n",
       "      <td>Association</td>\n",
       "      <td>1</td>\n",
       "      <td>0</td>\n",
       "      <td>N</td>\n",
       "      <td>5000</td>\n",
       "      <td>0</td>\n",
       "    </tr>\n",
       "    <tr>\n",
       "      <th>3</th>\n",
       "      <td>10553066</td>\n",
       "      <td>SOUTHSIDE ATHLETIC ASSOCIATION</td>\n",
       "      <td>T3</td>\n",
       "      <td>CompanySponsored</td>\n",
       "      <td>C2000</td>\n",
       "      <td>Preservation</td>\n",
       "      <td>Trust</td>\n",
       "      <td>1</td>\n",
       "      <td>10000-24999</td>\n",
       "      <td>N</td>\n",
       "      <td>6692</td>\n",
       "      <td>1</td>\n",
       "    </tr>\n",
       "    <tr>\n",
       "      <th>4</th>\n",
       "      <td>10556103</td>\n",
       "      <td>GENETIC RESEARCH INSTITUTE OF THE DESERT</td>\n",
       "      <td>T3</td>\n",
       "      <td>Independent</td>\n",
       "      <td>C1000</td>\n",
       "      <td>Heathcare</td>\n",
       "      <td>Trust</td>\n",
       "      <td>1</td>\n",
       "      <td>100000-499999</td>\n",
       "      <td>N</td>\n",
       "      <td>142590</td>\n",
       "      <td>1</td>\n",
       "    </tr>\n",
       "  </tbody>\n",
       "</table>\n",
       "</div>"
      ],
      "text/plain": [
       "        EIN                                      NAME APPLICATION_TYPE  \\\n",
       "0  10520599              BLUE KNIGHTS MOTORCYCLE CLUB              T10   \n",
       "1  10531628    AMERICAN CHESAPEAKE CLUB CHARITABLE TR               T3   \n",
       "2  10547893        ST CLOUD PROFESSIONAL FIREFIGHTERS               T5   \n",
       "3  10553066            SOUTHSIDE ATHLETIC ASSOCIATION               T3   \n",
       "4  10556103  GENETIC RESEARCH INSTITUTE OF THE DESERT               T3   \n",
       "\n",
       "        AFFILIATION CLASSIFICATION      USE_CASE  ORGANIZATION  STATUS  \\\n",
       "0       Independent          C1000    ProductDev   Association       1   \n",
       "1       Independent          C2000  Preservation  Co-operative       1   \n",
       "2  CompanySponsored          C3000    ProductDev   Association       1   \n",
       "3  CompanySponsored          C2000  Preservation         Trust       1   \n",
       "4       Independent          C1000     Heathcare         Trust       1   \n",
       "\n",
       "      INCOME_AMT SPECIAL_CONSIDERATIONS  ASK_AMT  IS_SUCCESSFUL  \n",
       "0              0                      N     5000              1  \n",
       "1         1-9999                      N   108590              1  \n",
       "2              0                      N     5000              0  \n",
       "3    10000-24999                      N     6692              1  \n",
       "4  100000-499999                      N   142590              1  "
      ]
     },
     "execution_count": 1,
     "metadata": {},
     "output_type": "execute_result"
    }
   ],
   "source": [
    "# Import our dependencies\n",
    "from sklearn.model_selection import train_test_split\n",
    "from sklearn.preprocessing import StandardScaler,OneHotEncoder\n",
    "import pandas as pd\n",
    "import tensorflow as tf\n",
    "\n",
    "#  Import and read the charity_data.csv.\n",
    "import pandas as pd \n",
    "application_df = pd.read_csv(\"Resources/charity_data.csv\")\n",
    "application_df.head()"
   ]
  },
  {
   "cell_type": "code",
   "execution_count": 2,
   "metadata": {},
   "outputs": [],
   "source": [
    "# Drop the non-beneficial ID columns, 'EIN' and 'NAME'.\n",
    "#  YOUR CODE GOES HERE\n",
    "application_df.drop(['EIN', 'NAME', 'STATUS', 'SPECIAL_CONSIDERATIONS', ], axis=1, inplace=True)"
   ]
  },
  {
   "cell_type": "code",
   "execution_count": 3,
   "metadata": {},
   "outputs": [
    {
     "data": {
      "text/plain": [
       "APPLICATION_TYPE      17\n",
       "AFFILIATION            6\n",
       "CLASSIFICATION        71\n",
       "USE_CASE               5\n",
       "ORGANIZATION           4\n",
       "INCOME_AMT             9\n",
       "ASK_AMT             8747\n",
       "IS_SUCCESSFUL          2\n",
       "dtype: int64"
      ]
     },
     "execution_count": 3,
     "metadata": {},
     "output_type": "execute_result"
    }
   ],
   "source": [
    "# Determine the number of unique values in each column.\n",
    "#  YOUR CODE GOES HERE\n",
    "application_df.nunique()"
   ]
  },
  {
   "cell_type": "code",
   "execution_count": 4,
   "metadata": {},
   "outputs": [
    {
     "data": {
      "text/plain": [
       "T3     27037\n",
       "T4      1542\n",
       "T6      1216\n",
       "T5      1173\n",
       "T19     1065\n",
       "T8       737\n",
       "T7       725\n",
       "T10      528\n",
       "T9       156\n",
       "T13       66\n",
       "T12       27\n",
       "T2        16\n",
       "T25        3\n",
       "T14        3\n",
       "T29        2\n",
       "T15        2\n",
       "T17        1\n",
       "Name: APPLICATION_TYPE, dtype: int64"
      ]
     },
     "execution_count": 4,
     "metadata": {},
     "output_type": "execute_result"
    }
   ],
   "source": [
    "# Look at APPLICATION_TYPE value counts for binning\n",
    "#  YOUR CODE GOES HERE\n",
    "application_types = application_df['APPLICATION_TYPE'].value_counts()\n",
    "application_types"
   ]
  },
  {
   "cell_type": "code",
   "execution_count": 5,
   "metadata": {},
   "outputs": [
    {
     "data": {
      "text/plain": [
       "<AxesSubplot:ylabel='Density'>"
      ]
     },
     "execution_count": 5,
     "metadata": {},
     "output_type": "execute_result"
    },
    {
     "data": {
      "image/png": "[encoded data removed]",
      "text/plain": [
       "<Figure size 432x288 with 1 Axes>"
      ]
     },
     "metadata": {
      "needs_background": "light"
     },
     "output_type": "display_data"
    }
   ],
   "source": [
    "# Visualize the value counts of APPLICATION_TYPE\n",
    "#  YOUR CODE GOES HERE\n",
    "application_types.plot.density()"
   ]
  },
  {
   "cell_type": "code",
   "execution_count": 6,
   "metadata": {},
   "outputs": [
    {
     "data": {
      "text/plain": [
       "T3       27037\n",
       "T4        1542\n",
       "T6        1216\n",
       "T5        1173\n",
       "T19       1065\n",
       "T8         737\n",
       "T7         725\n",
       "T10        528\n",
       "Other      276\n",
       "Name: APPLICATION_TYPE, dtype: int64"
      ]
     },
     "execution_count": 6,
     "metadata": {},
     "output_type": "execute_result"
    }
   ],
   "source": [
    "# Determine which values to replace if counts are less than ...?\n",
    "#  YOUR CODE GOES HERE\n",
    "replace_application = list(application_types[application_types < 500].index)\n",
    "# Replace in dataframe\n",
    "for app in replace_application:\n",
    "    application_df.APPLICATION_TYPE = application_df.APPLICATION_TYPE.replace(app,\"Other\")\n",
    "    \n",
    "# Check to make sure binning was successful\n",
    "application_df.APPLICATION_TYPE.value_counts()"
   ]
  },
  {
   "cell_type": "code",
   "execution_count": 7,
   "metadata": {},
   "outputs": [
    {
     "data": {
      "text/plain": [
       "C1000    17326\n",
       "C2000     6074\n",
       "C1200     4837\n",
       "C3000     1918\n",
       "C2100     1883\n",
       "         ...  \n",
       "C4120        1\n",
       "C8210        1\n",
       "C2561        1\n",
       "C4500        1\n",
       "C2150        1\n",
       "Name: CLASSIFICATION, Length: 71, dtype: int64"
      ]
     },
     "execution_count": 7,
     "metadata": {},
     "output_type": "execute_result"
    }
   ],
   "source": [
    "# Look at CLASSIFICATION value counts for binning\n",
    "#  YOUR CODE GOES HERE\n",
    "classification_values = application_df['CLASSIFICATION'].value_counts()\n",
    "classification_values"
   ]
  },
  {
   "cell_type": "code",
   "execution_count": 8,
   "metadata": {},
   "outputs": [
    {
     "data": {
      "text/plain": [
       "<AxesSubplot:ylabel='Density'>"
      ]
     },
     "execution_count": 8,
     "metadata": {},
     "output_type": "execute_result"
    },
    {
     "data": {
      "image/png": "[encoded data removed]",
      "text/plain": [
       "<Figure size 432x288 with 1 Axes>"
      ]
     },
     "metadata": {
      "needs_background": "light"
     },
     "output_type": "display_data"
    }
   ],
   "source": [
    "# Visualize the value counts of CLASSIFICATION\n",
    "#  YOUR CODE GOES HERE\n",
    "classification_values.plot.density()"
   ]
  },
  {
   "cell_type": "code",
   "execution_count": 9,
   "metadata": {},
   "outputs": [
    {
     "data": {
      "text/plain": [
       "C1000    17326\n",
       "C2000     6074\n",
       "C1200     4837\n",
       "C3000     1918\n",
       "C2100     1883\n",
       "Other     1484\n",
       "C7000      777\n",
       "Name: CLASSIFICATION, dtype: int64"
      ]
     },
     "execution_count": 9,
     "metadata": {},
     "output_type": "execute_result"
    }
   ],
   "source": [
    "# Determine which values to replace if counts are less than ..?\n",
    "#  YOUR CODE GOES HERE\n",
    "replace_class = list(classification_values[classification_values < 500].index)\n",
    "# Replace in dataframe\n",
    "for cls in replace_class:\n",
    "    application_df.CLASSIFICATION = application_df.CLASSIFICATION.replace(cls,\"Other\")\n",
    "    \n",
    "# Check to make sure binning was successful\n",
    "application_df.CLASSIFICATION.value_counts()"
   ]
  },
  {
   "cell_type": "code",
   "execution_count": 10,
   "metadata": {},
   "outputs": [
    {
     "data": {
      "text/plain": [
       "['APPLICATION_TYPE',\n",
       " 'AFFILIATION',\n",
       " 'CLASSIFICATION',\n",
       " 'USE_CASE',\n",
       " 'ORGANIZATION',\n",
       " 'INCOME_AMT']"
      ]
     },
     "execution_count": 10,
     "metadata": {},
     "output_type": "execute_result"
    }
   ],
   "source": [
    "# Generate our categorical variable lists\n",
    "#  YOUR CODE GOES HERE\n",
    "application_category = application_df.dtypes[application_df.dtypes == \"object\"].index.tolist()\n",
    "application_category"
   ]
  },
  {
   "cell_type": "code",
   "execution_count": 11,
   "metadata": {},
   "outputs": [
    {
     "data": {
      "text/html": [
       "<div>\n",
       "<style scoped>\n",
       "    .dataframe tbody tr th:only-of-type {\n",
       "        vertical-align: middle;\n",
       "    }\n",
       "\n",
       "    .dataframe tbody tr th {\n",
       "        vertical-align: top;\n",
       "    }\n",
       "\n",
       "    .dataframe thead th {\n",
       "        text-align: right;\n",
       "    }\n",
       "</style>\n",
       "<table border=\"1\" class=\"dataframe\">\n",
       "  <thead>\n",
       "    <tr style=\"text-align: right;\">\n",
       "      <th></th>\n",
       "      <th>APPLICATION_TYPE_Other</th>\n",
       "      <th>APPLICATION_TYPE_T10</th>\n",
       "      <th>APPLICATION_TYPE_T19</th>\n",
       "      <th>APPLICATION_TYPE_T3</th>\n",
       "      <th>APPLICATION_TYPE_T4</th>\n",
       "      <th>APPLICATION_TYPE_T5</th>\n",
       "      <th>APPLICATION_TYPE_T6</th>\n",
       "      <th>APPLICATION_TYPE_T7</th>\n",
       "      <th>APPLICATION_TYPE_T8</th>\n",
       "      <th>AFFILIATION_CompanySponsored</th>\n",
       "      <th>...</th>\n",
       "      <th>ORGANIZATION_Trust</th>\n",
       "      <th>INCOME_AMT_0</th>\n",
       "      <th>INCOME_AMT_1-9999</th>\n",
       "      <th>INCOME_AMT_10000-24999</th>\n",
       "      <th>INCOME_AMT_100000-499999</th>\n",
       "      <th>INCOME_AMT_10M-50M</th>\n",
       "      <th>INCOME_AMT_1M-5M</th>\n",
       "      <th>INCOME_AMT_25000-99999</th>\n",
       "      <th>INCOME_AMT_50M+</th>\n",
       "      <th>INCOME_AMT_5M-10M</th>\n",
       "    </tr>\n",
       "  </thead>\n",
       "  <tbody>\n",
       "    <tr>\n",
       "      <th>0</th>\n",
       "      <td>0.0</td>\n",
       "      <td>1.0</td>\n",
       "      <td>0.0</td>\n",
       "      <td>0.0</td>\n",
       "      <td>0.0</td>\n",
       "      <td>0.0</td>\n",
       "      <td>0.0</td>\n",
       "      <td>0.0</td>\n",
       "      <td>0.0</td>\n",
       "      <td>0.0</td>\n",
       "      <td>...</td>\n",
       "      <td>0.0</td>\n",
       "      <td>1.0</td>\n",
       "      <td>0.0</td>\n",
       "      <td>0.0</td>\n",
       "      <td>0.0</td>\n",
       "      <td>0.0</td>\n",
       "      <td>0.0</td>\n",
       "      <td>0.0</td>\n",
       "      <td>0.0</td>\n",
       "      <td>0.0</td>\n",
       "    </tr>\n",
       "    <tr>\n",
       "      <th>1</th>\n",
       "      <td>0.0</td>\n",
       "      <td>0.0</td>\n",
       "      <td>0.0</td>\n",
       "      <td>1.0</td>\n",
       "      <td>0.0</td>\n",
       "      <td>0.0</td>\n",
       "      <td>0.0</td>\n",
       "      <td>0.0</td>\n",
       "      <td>0.0</td>\n",
       "      <td>0.0</td>\n",
       "      <td>...</td>\n",
       "      <td>0.0</td>\n",
       "      <td>0.0</td>\n",
       "      <td>1.0</td>\n",
       "      <td>0.0</td>\n",
       "      <td>0.0</td>\n",
       "      <td>0.0</td>\n",
       "      <td>0.0</td>\n",
       "      <td>0.0</td>\n",
       "      <td>0.0</td>\n",
       "      <td>0.0</td>\n",
       "    </tr>\n",
       "    <tr>\n",
       "      <th>2</th>\n",
       "      <td>0.0</td>\n",
       "      <td>0.0</td>\n",
       "      <td>0.0</td>\n",
       "      <td>0.0</td>\n",
       "      <td>0.0</td>\n",
       "      <td>1.0</td>\n",
       "      <td>0.0</td>\n",
       "      <td>0.0</td>\n",
       "      <td>0.0</td>\n",
       "      <td>1.0</td>\n",
       "      <td>...</td>\n",
       "      <td>0.0</td>\n",
       "      <td>1.0</td>\n",
       "      <td>0.0</td>\n",
       "      <td>0.0</td>\n",
       "      <td>0.0</td>\n",
       "      <td>0.0</td>\n",
       "      <td>0.0</td>\n",
       "      <td>0.0</td>\n",
       "      <td>0.0</td>\n",
       "      <td>0.0</td>\n",
       "    </tr>\n",
       "    <tr>\n",
       "      <th>3</th>\n",
       "      <td>0.0</td>\n",
       "      <td>0.0</td>\n",
       "      <td>0.0</td>\n",
       "      <td>1.0</td>\n",
       "      <td>0.0</td>\n",
       "      <td>0.0</td>\n",
       "      <td>0.0</td>\n",
       "      <td>0.0</td>\n",
       "      <td>0.0</td>\n",
       "      <td>1.0</td>\n",
       "      <td>...</td>\n",
       "      <td>1.0</td>\n",
       "      <td>0.0</td>\n",
       "      <td>0.0</td>\n",
       "      <td>1.0</td>\n",
       "      <td>0.0</td>\n",
       "      <td>0.0</td>\n",
       "      <td>0.0</td>\n",
       "      <td>0.0</td>\n",
       "      <td>0.0</td>\n",
       "      <td>0.0</td>\n",
       "    </tr>\n",
       "    <tr>\n",
       "      <th>4</th>\n",
       "      <td>0.0</td>\n",
       "      <td>0.0</td>\n",
       "      <td>0.0</td>\n",
       "      <td>1.0</td>\n",
       "      <td>0.0</td>\n",
       "      <td>0.0</td>\n",
       "      <td>0.0</td>\n",
       "      <td>0.0</td>\n",
       "      <td>0.0</td>\n",
       "      <td>0.0</td>\n",
       "      <td>...</td>\n",
       "      <td>1.0</td>\n",
       "      <td>0.0</td>\n",
       "      <td>0.0</td>\n",
       "      <td>0.0</td>\n",
       "      <td>1.0</td>\n",
       "      <td>0.0</td>\n",
       "      <td>0.0</td>\n",
       "      <td>0.0</td>\n",
       "      <td>0.0</td>\n",
       "      <td>0.0</td>\n",
       "    </tr>\n",
       "  </tbody>\n",
       "</table>\n",
       "<p>5 rows × 40 columns</p>\n",
       "</div>"
      ],
      "text/plain": [
       "   APPLICATION_TYPE_Other  APPLICATION_TYPE_T10  APPLICATION_TYPE_T19  \\\n",
       "0                     0.0                   1.0                   0.0   \n",
       "1                     0.0                   0.0                   0.0   \n",
       "2                     0.0                   0.0                   0.0   \n",
       "3                     0.0                   0.0                   0.0   \n",
       "4                     0.0                   0.0                   0.0   \n",
       "\n",
       "   APPLICATION_TYPE_T3  APPLICATION_TYPE_T4  APPLICATION_TYPE_T5  \\\n",
       "0                  0.0                  0.0                  0.0   \n",
       "1                  1.0                  0.0                  0.0   \n",
       "2                  0.0                  0.0                  1.0   \n",
       "3                  1.0                  0.0                  0.0   \n",
       "4                  1.0                  0.0                  0.0   \n",
       "\n",
       "   APPLICATION_TYPE_T6  APPLICATION_TYPE_T7  APPLICATION_TYPE_T8  \\\n",
       "0                  0.0                  0.0                  0.0   \n",
       "1                  0.0                  0.0                  0.0   \n",
       "2                  0.0                  0.0                  0.0   \n",
       "3                  0.0                  0.0                  0.0   \n",
       "4                  0.0                  0.0                  0.0   \n",
       "\n",
       "   AFFILIATION_CompanySponsored  ...  ORGANIZATION_Trust  INCOME_AMT_0  \\\n",
       "0                           0.0  ...                 0.0           1.0   \n",
       "1                           0.0  ...                 0.0           0.0   \n",
       "2                           1.0  ...                 0.0           1.0   \n",
       "3                           1.0  ...                 1.0           0.0   \n",
       "4                           0.0  ...                 1.0           0.0   \n",
       "\n",
       "   INCOME_AMT_1-9999  INCOME_AMT_10000-24999  INCOME_AMT_100000-499999  \\\n",
       "0                0.0                     0.0                       0.0   \n",
       "1                1.0                     0.0                       0.0   \n",
       "2                0.0                     0.0                       0.0   \n",
       "3                0.0                     1.0                       0.0   \n",
       "4                0.0                     0.0                       1.0   \n",
       "\n",
       "   INCOME_AMT_10M-50M  INCOME_AMT_1M-5M  INCOME_AMT_25000-99999  \\\n",
       "0                 0.0               0.0                     0.0   \n",
       "1                 0.0               0.0                     0.0   \n",
       "2                 0.0               0.0                     0.0   \n",
       "3                 0.0               0.0                     0.0   \n",
       "4                 0.0               0.0                     0.0   \n",
       "\n",
       "   INCOME_AMT_50M+  INCOME_AMT_5M-10M  \n",
       "0              0.0                0.0  \n",
       "1              0.0                0.0  \n",
       "2              0.0                0.0  \n",
       "3              0.0                0.0  \n",
       "4              0.0                0.0  \n",
       "\n",
       "[5 rows x 40 columns]"
      ]
     },
     "execution_count": 11,
     "metadata": {},
     "output_type": "execute_result"
    }
   ],
   "source": [
    "# Create a OneHotEncoder instance\n",
    "enc = OneHotEncoder(sparse=False)\n",
    "\n",
    "# Fit and transform the OneHotEncoder using the categorical variable list\n",
    "#  YOUR CODE GOES HERE\n",
    "encode_df = pd.DataFrame(enc.fit_transform(application_df[application_category]))\n",
    "# Add the encoded variable names to the dataframe\n",
    "encode_df.columns = enc.get_feature_names_out(application_category)\n",
    "encode_df.head()"
   ]
  },
  {
   "cell_type": "code",
   "execution_count": 12,
   "metadata": {},
   "outputs": [
    {
     "data": {
      "text/html": [
       "<div>\n",
       "<style scoped>\n",
       "    .dataframe tbody tr th:only-of-type {\n",
       "        vertical-align: middle;\n",
       "    }\n",
       "\n",
       "    .dataframe tbody tr th {\n",
       "        vertical-align: top;\n",
       "    }\n",
       "\n",
       "    .dataframe thead th {\n",
       "        text-align: right;\n",
       "    }\n",
       "</style>\n",
       "<table border=\"1\" class=\"dataframe\">\n",
       "  <thead>\n",
       "    <tr style=\"text-align: right;\">\n",
       "      <th></th>\n",
       "      <th>ASK_AMT</th>\n",
       "      <th>IS_SUCCESSFUL</th>\n",
       "      <th>APPLICATION_TYPE_Other</th>\n",
       "      <th>APPLICATION_TYPE_T10</th>\n",
       "      <th>APPLICATION_TYPE_T19</th>\n",
       "      <th>APPLICATION_TYPE_T3</th>\n",
       "      <th>APPLICATION_TYPE_T4</th>\n",
       "      <th>APPLICATION_TYPE_T5</th>\n",
       "      <th>APPLICATION_TYPE_T6</th>\n",
       "      <th>APPLICATION_TYPE_T7</th>\n",
       "      <th>...</th>\n",
       "      <th>ORGANIZATION_Trust</th>\n",
       "      <th>INCOME_AMT_0</th>\n",
       "      <th>INCOME_AMT_1-9999</th>\n",
       "      <th>INCOME_AMT_10000-24999</th>\n",
       "      <th>INCOME_AMT_100000-499999</th>\n",
       "      <th>INCOME_AMT_10M-50M</th>\n",
       "      <th>INCOME_AMT_1M-5M</th>\n",
       "      <th>INCOME_AMT_25000-99999</th>\n",
       "      <th>INCOME_AMT_50M+</th>\n",
       "      <th>INCOME_AMT_5M-10M</th>\n",
       "    </tr>\n",
       "  </thead>\n",
       "  <tbody>\n",
       "    <tr>\n",
       "      <th>0</th>\n",
       "      <td>5000</td>\n",
       "      <td>1</td>\n",
       "      <td>0.0</td>\n",
       "      <td>1.0</td>\n",
       "      <td>0.0</td>\n",
       "      <td>0.0</td>\n",
       "      <td>0.0</td>\n",
       "      <td>0.0</td>\n",
       "      <td>0.0</td>\n",
       "      <td>0.0</td>\n",
       "      <td>...</td>\n",
       "      <td>0.0</td>\n",
       "      <td>1.0</td>\n",
       "      <td>0.0</td>\n",
       "      <td>0.0</td>\n",
       "      <td>0.0</td>\n",
       "      <td>0.0</td>\n",
       "      <td>0.0</td>\n",
       "      <td>0.0</td>\n",
       "      <td>0.0</td>\n",
       "      <td>0.0</td>\n",
       "    </tr>\n",
       "    <tr>\n",
       "      <th>1</th>\n",
       "      <td>108590</td>\n",
       "      <td>1</td>\n",
       "      <td>0.0</td>\n",
       "      <td>0.0</td>\n",
       "      <td>0.0</td>\n",
       "      <td>1.0</td>\n",
       "      <td>0.0</td>\n",
       "      <td>0.0</td>\n",
       "      <td>0.0</td>\n",
       "      <td>0.0</td>\n",
       "      <td>...</td>\n",
       "      <td>0.0</td>\n",
       "      <td>0.0</td>\n",
       "      <td>1.0</td>\n",
       "      <td>0.0</td>\n",
       "      <td>0.0</td>\n",
       "      <td>0.0</td>\n",
       "      <td>0.0</td>\n",
       "      <td>0.0</td>\n",
       "      <td>0.0</td>\n",
       "      <td>0.0</td>\n",
       "    </tr>\n",
       "    <tr>\n",
       "      <th>2</th>\n",
       "      <td>5000</td>\n",
       "      <td>0</td>\n",
       "      <td>0.0</td>\n",
       "      <td>0.0</td>\n",
       "      <td>0.0</td>\n",
       "      <td>0.0</td>\n",
       "      <td>0.0</td>\n",
       "      <td>1.0</td>\n",
       "      <td>0.0</td>\n",
       "      <td>0.0</td>\n",
       "      <td>...</td>\n",
       "      <td>0.0</td>\n",
       "      <td>1.0</td>\n",
       "      <td>0.0</td>\n",
       "      <td>0.0</td>\n",
       "      <td>0.0</td>\n",
       "      <td>0.0</td>\n",
       "      <td>0.0</td>\n",
       "      <td>0.0</td>\n",
       "      <td>0.0</td>\n",
       "      <td>0.0</td>\n",
       "    </tr>\n",
       "    <tr>\n",
       "      <th>3</th>\n",
       "      <td>6692</td>\n",
       "      <td>1</td>\n",
       "      <td>0.0</td>\n",
       "      <td>0.0</td>\n",
       "      <td>0.0</td>\n",
       "      <td>1.0</td>\n",
       "      <td>0.0</td>\n",
       "      <td>0.0</td>\n",
       "      <td>0.0</td>\n",
       "      <td>0.0</td>\n",
       "      <td>...</td>\n",
       "      <td>1.0</td>\n",
       "      <td>0.0</td>\n",
       "      <td>0.0</td>\n",
       "      <td>1.0</td>\n",
       "      <td>0.0</td>\n",
       "      <td>0.0</td>\n",
       "      <td>0.0</td>\n",
       "      <td>0.0</td>\n",
       "      <td>0.0</td>\n",
       "      <td>0.0</td>\n",
       "    </tr>\n",
       "    <tr>\n",
       "      <th>4</th>\n",
       "      <td>142590</td>\n",
       "      <td>1</td>\n",
       "      <td>0.0</td>\n",
       "      <td>0.0</td>\n",
       "      <td>0.0</td>\n",
       "      <td>1.0</td>\n",
       "      <td>0.0</td>\n",
       "      <td>0.0</td>\n",
       "      <td>0.0</td>\n",
       "      <td>0.0</td>\n",
       "      <td>...</td>\n",
       "      <td>1.0</td>\n",
       "      <td>0.0</td>\n",
       "      <td>0.0</td>\n",
       "      <td>0.0</td>\n",
       "      <td>1.0</td>\n",
       "      <td>0.0</td>\n",
       "      <td>0.0</td>\n",
       "      <td>0.0</td>\n",
       "      <td>0.0</td>\n",
       "      <td>0.0</td>\n",
       "    </tr>\n",
       "  </tbody>\n",
       "</table>\n",
       "<p>5 rows × 42 columns</p>\n",
       "</div>"
      ],
      "text/plain": [
       "   ASK_AMT  IS_SUCCESSFUL  APPLICATION_TYPE_Other  APPLICATION_TYPE_T10  \\\n",
       "0     5000              1                     0.0                   1.0   \n",
       "1   108590              1                     0.0                   0.0   \n",
       "2     5000              0                     0.0                   0.0   \n",
       "3     6692              1                     0.0                   0.0   \n",
       "4   142590              1                     0.0                   0.0   \n",
       "\n",
       "   APPLICATION_TYPE_T19  APPLICATION_TYPE_T3  APPLICATION_TYPE_T4  \\\n",
       "0                   0.0                  0.0                  0.0   \n",
       "1                   0.0                  1.0                  0.0   \n",
       "2                   0.0                  0.0                  0.0   \n",
       "3                   0.0                  1.0                  0.0   \n",
       "4                   0.0                  1.0                  0.0   \n",
       "\n",
       "   APPLICATION_TYPE_T5  APPLICATION_TYPE_T6  APPLICATION_TYPE_T7  ...  \\\n",
       "0                  0.0                  0.0                  0.0  ...   \n",
       "1                  0.0                  0.0                  0.0  ...   \n",
       "2                  1.0                  0.0                  0.0  ...   \n",
       "3                  0.0                  0.0                  0.0  ...   \n",
       "4                  0.0                  0.0                  0.0  ...   \n",
       "\n",
       "   ORGANIZATION_Trust  INCOME_AMT_0  INCOME_AMT_1-9999  \\\n",
       "0                 0.0           1.0                0.0   \n",
       "1                 0.0           0.0                1.0   \n",
       "2                 0.0           1.0                0.0   \n",
       "3                 1.0           0.0                0.0   \n",
       "4                 1.0           0.0                0.0   \n",
       "\n",
       "   INCOME_AMT_10000-24999  INCOME_AMT_100000-499999  INCOME_AMT_10M-50M  \\\n",
       "0                     0.0                       0.0                 0.0   \n",
       "1                     0.0                       0.0                 0.0   \n",
       "2                     0.0                       0.0                 0.0   \n",
       "3                     1.0                       0.0                 0.0   \n",
       "4                     0.0                       1.0                 0.0   \n",
       "\n",
       "   INCOME_AMT_1M-5M  INCOME_AMT_25000-99999  INCOME_AMT_50M+  \\\n",
       "0               0.0                     0.0              0.0   \n",
       "1               0.0                     0.0              0.0   \n",
       "2               0.0                     0.0              0.0   \n",
       "3               0.0                     0.0              0.0   \n",
       "4               0.0                     0.0              0.0   \n",
       "\n",
       "   INCOME_AMT_5M-10M  \n",
       "0                0.0  \n",
       "1                0.0  \n",
       "2                0.0  \n",
       "3                0.0  \n",
       "4                0.0  \n",
       "\n",
       "[5 rows x 42 columns]"
      ]
     },
     "execution_count": 12,
     "metadata": {},
     "output_type": "execute_result"
    }
   ],
   "source": [
    "# Merge one-hot encoded features and drop the originals\n",
    "#  YOUR CODE GOES HERE\n",
    "application_df = application_df.merge(encode_df, left_index=True,right_index=True)\n",
    "application_df = application_df.drop(columns = application_category)\n",
    "application_df.head()"
   ]
  },
  {
   "cell_type": "code",
   "execution_count": 13,
   "metadata": {},
   "outputs": [
    {
     "name": "stderr",
     "output_type": "stream",
     "text": [
      "C:\\Users\\h4mm4\\.conda\\envs\\Pythondata\\lib\\site-packages\\ipykernel_launcher.py:4: FutureWarning: In a future version of pandas all arguments of DataFrame.drop except for the argument 'labels' will be keyword-only\n",
      "  after removing the cwd from sys.path.\n"
     ]
    }
   ],
   "source": [
    "# Split our preprocessed data into our features and target arrays\n",
    "#  YOUR CODE GOES HERE\n",
    "y = application_df['IS_SUCCESSFUL'].values\n",
    "X = application_df.drop(['IS_SUCCESSFUL'],1).values\n",
    "# Split the preprocessed data into a training and testing dataset\n",
    "#  YOUR CODE GOES HERE\n",
    "X_train, X_test, y_train, y_test = train_test_split(X, y, random_state=78)"
   ]
  },
  {
   "cell_type": "code",
   "execution_count": 14,
   "metadata": {},
   "outputs": [],
   "source": [
    "# Create a StandardScaler instances\n",
    "scaler = StandardScaler()\n",
    "\n",
    "# Fit the StandardScaler\n",
    "X_scaler = scaler.fit(X_train)\n",
    "\n",
    "# Scale the data\n",
    "X_train_scaled = X_scaler.transform(X_train)\n",
    "X_test_scaled = X_scaler.transform(X_test)"
   ]
  },
  {
   "cell_type": "markdown",
   "metadata": {},
   "source": [
    "### Deliverable 3: Compile, Train and Evaluate the Model\n",
    "##### Attempt 1 \n",
    "Must be atleast better than values below. \n",
    "Loss: 0.6961942911148071, Accuracy: 0.5940524935722351\n",
    "\n",
    "\n",
    "1. Add third layer \n",
    "2. double number of neurons "
   ]
  },
  {
   "cell_type": "code",
   "execution_count": 15,
   "metadata": {},
   "outputs": [],
   "source": [
    "# Import checkpoint dependencies\n",
    "import os\n",
    "from tensorflow.keras.callbacks import ModelCheckpoint\n",
    "\n",
    "# Define the checkpoint path and filenames\n",
    "os.makedirs(\"checkpoints/\",exist_ok=True)\n",
    "\n",
    "#saves every 5 minutes\n",
    "checkpoint_path = \"checkpoints/weights.{epoch:02d}.hdf5\"\n",
    "cp_callback= ModelCheckpoint(filepath=checkpoint_path,save_weights_only=True, save_freq=5)"
   ]
  },
  {
   "cell_type": "code",
   "execution_count": 16,
   "metadata": {},
   "outputs": [
    {
     "name": "stdout",
     "output_type": "stream",
     "text": [
      "Model: \"sequential\"\n",
      "_________________________________________________________________\n",
      " Layer (type)                Output Shape              Param #   \n",
      "=================================================================\n",
      " dense (Dense)               (None, 16)                672       \n",
      "                                                                 \n",
      " dense_1 (Dense)             (None, 10)                170       \n",
      "                                                                 \n",
      " dense_2 (Dense)             (None, 10)                110       \n",
      "                                                                 \n",
      " dense_3 (Dense)             (None, 1)                 11        \n",
      "                                                                 \n",
      "=================================================================\n",
      "Total params: 963\n",
      "Trainable params: 963\n",
      "Non-trainable params: 0\n",
      "_________________________________________________________________\n"
     ]
    }
   ],
   "source": [
    "# Define the model - deep neural net, i.e., the number of input features and hidden nodes for each layer.\n",
    "#  YOUR CODE GOES HERE\n",
    "number_input_features = len(X_train[0])\n",
    "hidden_nodes_layer1 =  16\n",
    "hidden_nodes_layer2 = 10\n",
    "hidden_nodes_layer3 = 10\n",
    "nn1 = tf.keras.models.Sequential()\n",
    "\n",
    "# First hidden layer\n",
    "#  YOUR CODE GOES HERE\n",
    "nn1.add(tf.keras.layers.Dense(units=hidden_nodes_layer1, input_dim=number_input_features, activation=\"relu\"))\n",
    "# Second hidden layer\n",
    "#  YOUR CODE GOES HERE\n",
    "nn1.add(tf.keras.layers.Dense(units=hidden_nodes_layer2, activation=\"relu\"))\n",
    "#  YOUR CODE GOES HERE\n",
    "nn1.add(tf.keras.layers.Dense(units=hidden_nodes_layer3, activation=\"relu\"))\n",
    "# Output layer\n",
    "#  YOUR CODE GOES HERE\n",
    "nn1.add(tf.keras.layers.Dense(units=1, activation=\"sigmoid\"))\n",
    "# Check the structure of the model\n",
    "nn1.summary()"
   ]
  },
  {
   "cell_type": "code",
   "execution_count": 17,
   "metadata": {},
   "outputs": [],
   "source": [
    "# Compile the model\n",
    "#  YOUR CODE GOES HERE\n",
    "nn1.compile(loss=\"binary_crossentropy\", optimizer=\"adam\", metrics=[\"accuracy\"])"
   ]
  },
  {
   "cell_type": "code",
   "execution_count": 18,
   "metadata": {},
   "outputs": [],
   "source": [
    "# Create a callback that saves the model's weights every epoch\n",
    "cp_callback = ModelCheckpoint(\n",
    "    filepath=checkpoint_path,\n",
    "    verbose=1,\n",
    "    save_weights_only=True,\n",
    "    save_freq='epoch')"
   ]
  },
  {
   "cell_type": "code",
   "execution_count": 19,
   "metadata": {},
   "outputs": [
    {
     "name": "stdout",
     "output_type": "stream",
     "text": [
      "Epoch 1/50\n",
      "630/644 [============================>.] - ETA: 0s - loss: 7226.2212 - accuracy: 0.4880\n",
      "Epoch 1: saving model to checkpoints\\weights.01.hdf5\n",
      "644/644 [==============================] - 3s 3ms/step - loss: 7408.6592 - accuracy: 0.4879 - val_loss: 23825.6953 - val_accuracy: 0.4690\n",
      "Epoch 2/50\n",
      "629/644 [============================>.] - ETA: 0s - loss: 8883.7422 - accuracy: 0.4883\n",
      "Epoch 2: saving model to checkpoints\\weights.02.hdf5\n",
      "644/644 [==============================] - 2s 3ms/step - loss: 8689.4316 - accuracy: 0.4888 - val_loss: 559.9155 - val_accuracy: 0.5184\n",
      "Epoch 3/50\n",
      "624/644 [============================>.] - ETA: 0s - loss: 1996.1078 - accuracy: 0.5064\n",
      "Epoch 3: saving model to checkpoints\\weights.03.hdf5\n",
      "644/644 [==============================] - 2s 3ms/step - loss: 2219.6868 - accuracy: 0.5061 - val_loss: 22906.4336 - val_accuracy: 0.4690\n",
      "Epoch 4/50\n",
      "635/644 [============================>.] - ETA: 0s - loss: 4694.0459 - accuracy: 0.4833\n",
      "Epoch 4: saving model to checkpoints\\weights.04.hdf5\n",
      "644/644 [==============================] - 2s 3ms/step - loss: 4637.2378 - accuracy: 0.4828 - val_loss: 4179.6968 - val_accuracy: 0.4690\n",
      "Epoch 5/50\n",
      "630/644 [============================>.] - ETA: 0s - loss: 1607.5933 - accuracy: 0.4942\n",
      "Epoch 5: saving model to checkpoints\\weights.05.hdf5\n",
      "644/644 [==============================] - 2s 3ms/step - loss: 1578.9100 - accuracy: 0.4930 - val_loss: 2824.3923 - val_accuracy: 0.4690\n",
      "Epoch 6/50\n",
      "631/644 [============================>.] - ETA: 0s - loss: 267.2105 - accuracy: 0.5142\n",
      "Epoch 6: saving model to checkpoints\\weights.06.hdf5\n",
      "644/644 [==============================] - 2s 3ms/step - loss: 262.2429 - accuracy: 0.5147 - val_loss: 41.6426 - val_accuracy: 0.5310\n",
      "Epoch 7/50\n",
      "635/644 [============================>.] - ETA: 0s - loss: 124.3504 - accuracy: 0.5214\n",
      "Epoch 7: saving model to checkpoints\\weights.07.hdf5\n",
      "644/644 [==============================] - 2s 3ms/step - loss: 129.3927 - accuracy: 0.5208 - val_loss: 609.4111 - val_accuracy: 0.5310\n",
      "Epoch 8/50\n",
      "641/644 [============================>.] - ETA: 0s - loss: 961.9837 - accuracy: 0.5234\n",
      "Epoch 8: saving model to checkpoints\\weights.08.hdf5\n",
      "644/644 [==============================] - 2s 3ms/step - loss: 958.8823 - accuracy: 0.5235 - val_loss: 21.0914 - val_accuracy: 0.5310\n",
      "Epoch 9/50\n",
      "630/644 [============================>.] - ETA: 0s - loss: 2.3191 - accuracy: 0.5316\n",
      "Epoch 9: saving model to checkpoints\\weights.09.hdf5\n",
      "644/644 [==============================] - 2s 3ms/step - loss: 2.2857 - accuracy: 0.5324 - val_loss: 0.6873 - val_accuracy: 0.5310\n",
      "Epoch 10/50\n",
      "636/644 [============================>.] - ETA: 0s - loss: 0.6849 - accuracy: 0.5324\n",
      "Epoch 10: saving model to checkpoints\\weights.10.hdf5\n",
      "644/644 [==============================] - 2s 3ms/step - loss: 0.6848 - accuracy: 0.5324 - val_loss: 0.6836 - val_accuracy: 0.5310\n",
      "Epoch 11/50\n",
      "623/644 [============================>.] - ETA: 0s - loss: 0.6817 - accuracy: 0.5332\n",
      "Epoch 11: saving model to checkpoints\\weights.11.hdf5\n",
      "644/644 [==============================] - 2s 3ms/step - loss: 0.6817 - accuracy: 0.5324 - val_loss: 0.6807 - val_accuracy: 0.5310\n",
      "Epoch 12/50\n",
      "643/644 [============================>.] - ETA: 0s - loss: 0.6783 - accuracy: 0.5324\n",
      "Epoch 12: saving model to checkpoints\\weights.12.hdf5\n",
      "644/644 [==============================] - 2s 3ms/step - loss: 0.6783 - accuracy: 0.5324 - val_loss: 0.6770 - val_accuracy: 0.5310\n",
      "Epoch 13/50\n",
      "644/644 [==============================] - ETA: 0s - loss: 0.6763 - accuracy: 0.5324\n",
      "Epoch 13: saving model to checkpoints\\weights.13.hdf5\n",
      "644/644 [==============================] - 2s 3ms/step - loss: 0.6763 - accuracy: 0.5324 - val_loss: 0.6738 - val_accuracy: 0.5310\n",
      "Epoch 14/50\n",
      "630/644 [============================>.] - ETA: 0s - loss: 0.6697 - accuracy: 0.5332\n",
      "Epoch 14: saving model to checkpoints\\weights.14.hdf5\n",
      "644/644 [==============================] - 2s 3ms/step - loss: 0.6698 - accuracy: 0.5324 - val_loss: 0.6660 - val_accuracy: 0.5310\n",
      "Epoch 15/50\n",
      "639/644 [============================>.] - ETA: 0s - loss: 0.6722 - accuracy: 0.5381\n",
      "Epoch 15: saving model to checkpoints\\weights.15.hdf5\n",
      "644/644 [==============================] - 2s 3ms/step - loss: 0.6721 - accuracy: 0.5383 - val_loss: 0.6661 - val_accuracy: 0.5310\n",
      "Epoch 16/50\n",
      "644/644 [==============================] - ETA: 0s - loss: 0.6616 - accuracy: 0.6059\n",
      "Epoch 16: saving model to checkpoints\\weights.16.hdf5\n",
      "644/644 [==============================] - 2s 3ms/step - loss: 0.6616 - accuracy: 0.6059 - val_loss: 0.6585 - val_accuracy: 0.6363\n",
      "Epoch 17/50\n",
      "638/644 [============================>.] - ETA: 0s - loss: 0.6837 - accuracy: 0.5611\n",
      "Epoch 17: saving model to checkpoints\\weights.17.hdf5\n",
      "644/644 [==============================] - 2s 3ms/step - loss: 0.6838 - accuracy: 0.5606 - val_loss: 0.6906 - val_accuracy: 0.5310\n",
      "Epoch 18/50\n",
      "625/644 [============================>.] - ETA: 0s - loss: 0.6775 - accuracy: 0.5321\n",
      "Epoch 18: saving model to checkpoints\\weights.18.hdf5\n",
      "644/644 [==============================] - 2s 3ms/step - loss: 0.6768 - accuracy: 0.5324 - val_loss: 0.6601 - val_accuracy: 0.5310\n",
      "Epoch 19/50\n",
      "643/644 [============================>.] - ETA: 0s - loss: 0.6550 - accuracy: 0.6459\n",
      "Epoch 19: saving model to checkpoints\\weights.19.hdf5\n",
      "644/644 [==============================] - 2s 3ms/step - loss: 0.6550 - accuracy: 0.6459 - val_loss: 0.6535 - val_accuracy: 0.6776\n",
      "Epoch 20/50\n",
      "628/644 [============================>.] - ETA: 0s - loss: 0.6505 - accuracy: 0.6871\n",
      "Epoch 20: saving model to checkpoints\\weights.20.hdf5\n",
      "644/644 [==============================] - 2s 3ms/step - loss: 0.6516 - accuracy: 0.6825 - val_loss: 0.6985 - val_accuracy: 0.4690\n",
      "Epoch 21/50\n",
      "628/644 [============================>.] - ETA: 0s - loss: 0.6925 - accuracy: 0.5158\n",
      "Epoch 21: saving model to checkpoints\\weights.21.hdf5\n",
      "644/644 [==============================] - 2s 3ms/step - loss: 0.6924 - accuracy: 0.5166 - val_loss: 0.6912 - val_accuracy: 0.5310\n",
      "Epoch 22/50\n",
      "641/644 [============================>.] - ETA: 0s - loss: 0.6911 - accuracy: 0.5324\n",
      "Epoch 22: saving model to checkpoints\\weights.22.hdf5\n",
      "644/644 [==============================] - 2s 3ms/step - loss: 0.6911 - accuracy: 0.5324 - val_loss: 0.6912 - val_accuracy: 0.5310\n",
      "Epoch 23/50\n",
      "641/644 [============================>.] - ETA: 0s - loss: 0.6911 - accuracy: 0.5326\n",
      "Epoch 23: saving model to checkpoints\\weights.23.hdf5\n",
      "644/644 [==============================] - 2s 3ms/step - loss: 0.6911 - accuracy: 0.5324 - val_loss: 0.6912 - val_accuracy: 0.5310\n",
      "Epoch 24/50\n",
      "641/644 [============================>.] - ETA: 0s - loss: 0.6911 - accuracy: 0.5323\n",
      "Epoch 24: saving model to checkpoints\\weights.24.hdf5\n",
      "644/644 [==============================] - 2s 3ms/step - loss: 0.6911 - accuracy: 0.5324 - val_loss: 0.6913 - val_accuracy: 0.5310\n",
      "Epoch 25/50\n",
      "632/644 [============================>.] - ETA: 0s - loss: 0.6911 - accuracy: 0.5326\n",
      "Epoch 25: saving model to checkpoints\\weights.25.hdf5\n",
      "644/644 [==============================] - 2s 3ms/step - loss: 0.6911 - accuracy: 0.5324 - val_loss: 0.6912 - val_accuracy: 0.5310\n",
      "Epoch 26/50\n",
      "627/644 [============================>.] - ETA: 0s - loss: 0.6911 - accuracy: 0.5323\n",
      "Epoch 26: saving model to checkpoints\\weights.26.hdf5\n",
      "644/644 [==============================] - 2s 3ms/step - loss: 0.6911 - accuracy: 0.5324 - val_loss: 0.6912 - val_accuracy: 0.5310\n",
      "Epoch 27/50\n",
      "644/644 [==============================] - ETA: 0s - loss: 0.6911 - accuracy: 0.5324\n",
      "Epoch 27: saving model to checkpoints\\weights.27.hdf5\n",
      "644/644 [==============================] - 2s 3ms/step - loss: 0.6911 - accuracy: 0.5324 - val_loss: 0.6912 - val_accuracy: 0.5310\n",
      "Epoch 28/50\n",
      "636/644 [============================>.] - ETA: 0s - loss: 0.6911 - accuracy: 0.5326\n",
      "Epoch 28: saving model to checkpoints\\weights.28.hdf5\n",
      "644/644 [==============================] - 2s 3ms/step - loss: 0.6911 - accuracy: 0.5324 - val_loss: 0.6912 - val_accuracy: 0.5310\n",
      "Epoch 29/50\n",
      "624/644 [============================>.] - ETA: 0s - loss: 0.6911 - accuracy: 0.5324\n",
      "Epoch 29: saving model to checkpoints\\weights.29.hdf5\n",
      "644/644 [==============================] - 2s 3ms/step - loss: 0.6911 - accuracy: 0.5324 - val_loss: 0.6912 - val_accuracy: 0.5310\n"
     ]
    },
    {
     "name": "stdout",
     "output_type": "stream",
     "text": [
      "Epoch 30/50\n",
      "631/644 [============================>.] - ETA: 0s - loss: 0.6911 - accuracy: 0.5324\n",
      "Epoch 30: saving model to checkpoints\\weights.30.hdf5\n",
      "644/644 [==============================] - 2s 3ms/step - loss: 0.6911 - accuracy: 0.5324 - val_loss: 0.6912 - val_accuracy: 0.5310\n",
      "Epoch 31/50\n",
      "631/644 [============================>.] - ETA: 0s - loss: 0.6912 - accuracy: 0.5318\n",
      "Epoch 31: saving model to checkpoints\\weights.31.hdf5\n",
      "644/644 [==============================] - 2s 3ms/step - loss: 0.6911 - accuracy: 0.5324 - val_loss: 0.6912 - val_accuracy: 0.5310\n",
      "Epoch 32/50\n",
      "640/644 [============================>.] - ETA: 0s - loss: 0.6911 - accuracy: 0.5325\n",
      "Epoch 32: saving model to checkpoints\\weights.32.hdf5\n",
      "644/644 [==============================] - 2s 3ms/step - loss: 0.6911 - accuracy: 0.5324 - val_loss: 0.6913 - val_accuracy: 0.5310\n",
      "Epoch 33/50\n",
      "633/644 [============================>.] - ETA: 0s - loss: 0.6910 - accuracy: 0.5330\n",
      "Epoch 33: saving model to checkpoints\\weights.33.hdf5\n",
      "644/644 [==============================] - 2s 3ms/step - loss: 0.6911 - accuracy: 0.5324 - val_loss: 0.6912 - val_accuracy: 0.5310\n",
      "Epoch 34/50\n",
      "633/644 [============================>.] - ETA: 0s - loss: 0.6912 - accuracy: 0.5320\n",
      "Epoch 34: saving model to checkpoints\\weights.34.hdf5\n",
      "644/644 [==============================] - 2s 3ms/step - loss: 0.6911 - accuracy: 0.5324 - val_loss: 0.6912 - val_accuracy: 0.5310\n",
      "Epoch 35/50\n",
      "627/644 [============================>.] - ETA: 0s - loss: 0.6911 - accuracy: 0.5323\n",
      "Epoch 35: saving model to checkpoints\\weights.35.hdf5\n",
      "644/644 [==============================] - 2s 3ms/step - loss: 0.6911 - accuracy: 0.5324 - val_loss: 0.6912 - val_accuracy: 0.5310\n",
      "Epoch 36/50\n",
      "622/644 [===========================>..] - ETA: 0s - loss: 0.6911 - accuracy: 0.5321\n",
      "Epoch 36: saving model to checkpoints\\weights.36.hdf5\n",
      "644/644 [==============================] - 2s 3ms/step - loss: 0.6911 - accuracy: 0.5324 - val_loss: 0.6912 - val_accuracy: 0.5310\n",
      "Epoch 37/50\n",
      "629/644 [============================>.] - ETA: 0s - loss: 0.6910 - accuracy: 0.5333\n",
      "Epoch 37: saving model to checkpoints\\weights.37.hdf5\n",
      "644/644 [==============================] - 2s 3ms/step - loss: 0.6911 - accuracy: 0.5324 - val_loss: 0.6912 - val_accuracy: 0.5310\n",
      "Epoch 38/50\n",
      "637/644 [============================>.] - ETA: 0s - loss: 0.6910 - accuracy: 0.5328\n",
      "Epoch 38: saving model to checkpoints\\weights.38.hdf5\n",
      "644/644 [==============================] - 2s 3ms/step - loss: 0.6911 - accuracy: 0.5324 - val_loss: 0.6913 - val_accuracy: 0.5310\n",
      "Epoch 39/50\n",
      "633/644 [============================>.] - ETA: 0s - loss: 0.6911 - accuracy: 0.5324\n",
      "Epoch 39: saving model to checkpoints\\weights.39.hdf5\n",
      "644/644 [==============================] - 2s 3ms/step - loss: 0.6911 - accuracy: 0.5324 - val_loss: 0.6912 - val_accuracy: 0.5310\n",
      "Epoch 40/50\n",
      "642/644 [============================>.] - ETA: 0s - loss: 0.6911 - accuracy: 0.5324\n",
      "Epoch 40: saving model to checkpoints\\weights.40.hdf5\n",
      "644/644 [==============================] - 2s 3ms/step - loss: 0.6911 - accuracy: 0.5324 - val_loss: 0.6913 - val_accuracy: 0.5310\n",
      "Epoch 41/50\n",
      "633/644 [============================>.] - ETA: 0s - loss: 0.6912 - accuracy: 0.5320\n",
      "Epoch 41: saving model to checkpoints\\weights.41.hdf5\n",
      "644/644 [==============================] - 2s 3ms/step - loss: 0.6911 - accuracy: 0.5324 - val_loss: 0.6912 - val_accuracy: 0.5310\n",
      "Epoch 42/50\n",
      "633/644 [============================>.] - ETA: 0s - loss: 0.6911 - accuracy: 0.5325\n",
      "Epoch 42: saving model to checkpoints\\weights.42.hdf5\n",
      "644/644 [==============================] - 2s 3ms/step - loss: 0.6911 - accuracy: 0.5324 - val_loss: 0.6913 - val_accuracy: 0.5310\n",
      "Epoch 43/50\n",
      "627/644 [============================>.] - ETA: 0s - loss: 0.6910 - accuracy: 0.5330\n",
      "Epoch 43: saving model to checkpoints\\weights.43.hdf5\n",
      "644/644 [==============================] - 2s 3ms/step - loss: 0.6911 - accuracy: 0.5324 - val_loss: 0.6912 - val_accuracy: 0.5310\n",
      "Epoch 44/50\n",
      "631/644 [============================>.] - ETA: 0s - loss: 0.6912 - accuracy: 0.5320\n",
      "Epoch 44: saving model to checkpoints\\weights.44.hdf5\n",
      "644/644 [==============================] - 2s 3ms/step - loss: 0.6911 - accuracy: 0.5324 - val_loss: 0.6912 - val_accuracy: 0.5310\n",
      "Epoch 45/50\n",
      "624/644 [============================>.] - ETA: 0s - loss: 0.6911 - accuracy: 0.5324\n",
      "Epoch 45: saving model to checkpoints\\weights.45.hdf5\n",
      "644/644 [==============================] - 2s 3ms/step - loss: 0.6911 - accuracy: 0.5324 - val_loss: 0.6913 - val_accuracy: 0.5310\n",
      "Epoch 46/50\n",
      "641/644 [============================>.] - ETA: 0s - loss: 0.6911 - accuracy: 0.5322\n",
      "Epoch 46: saving model to checkpoints\\weights.46.hdf5\n",
      "644/644 [==============================] - 2s 3ms/step - loss: 0.6911 - accuracy: 0.5324 - val_loss: 0.6913 - val_accuracy: 0.5310\n",
      "Epoch 47/50\n",
      "641/644 [============================>.] - ETA: 0s - loss: 0.6911 - accuracy: 0.5325\n",
      "Epoch 47: saving model to checkpoints\\weights.47.hdf5\n",
      "644/644 [==============================] - 2s 3ms/step - loss: 0.6911 - accuracy: 0.5324 - val_loss: 0.6912 - val_accuracy: 0.5310\n",
      "Epoch 48/50\n",
      "628/644 [============================>.] - ETA: 0s - loss: 0.6913 - accuracy: 0.5309\n",
      "Epoch 48: saving model to checkpoints\\weights.48.hdf5\n",
      "644/644 [==============================] - 2s 3ms/step - loss: 0.6911 - accuracy: 0.5324 - val_loss: 0.6913 - val_accuracy: 0.5310\n",
      "Epoch 49/50\n",
      "623/644 [============================>.] - ETA: 0s - loss: 0.6912 - accuracy: 0.5318\n",
      "Epoch 49: saving model to checkpoints\\weights.49.hdf5\n",
      "644/644 [==============================] - 2s 3ms/step - loss: 0.6912 - accuracy: 0.5324 - val_loss: 0.6912 - val_accuracy: 0.5310\n",
      "Epoch 50/50\n",
      "629/644 [============================>.] - ETA: 0s - loss: 0.6911 - accuracy: 0.5323\n",
      "Epoch 50: saving model to checkpoints\\weights.50.hdf5\n",
      "644/644 [==============================] - 2s 3ms/step - loss: 0.6911 - accuracy: 0.5324 - val_loss: 0.6912 - val_accuracy: 0.5310\n"
     ]
    }
   ],
   "source": [
    "# Train the model\n",
    "#  YOUR CODE GOES HERE\n",
    "fit_mod = nn1.fit(\n",
    "    X_train, y_train, epochs=50, callbacks=[cp_callback], validation_split=0.2\n",
    ")"
   ]
  },
  {
   "cell_type": "code",
   "execution_count": 20,
   "metadata": {},
   "outputs": [
    {
     "name": "stdout",
     "output_type": "stream",
     "text": [
      "268/268 - 0s - loss: 0.6167 - accuracy: 0.7187 - 447ms/epoch - 2ms/step\n",
      "Loss: 0.6167017817497253, Accuracy: 0.7187172174453735\n"
     ]
    }
   ],
   "source": [
    "# Evaluate the model using the test data\n",
    "model_loss, model_accuracy = nn1.evaluate(X_test_scaled,y_test,verbose=2)\n",
    "print(f\"Loss: {model_loss}, Accuracy: {model_accuracy}\")"
   ]
  },
  {
   "cell_type": "code",
   "execution_count": 21,
   "metadata": {},
   "outputs": [],
   "source": [
    "nn1.save('AlphabetSoupCharity-opt1.h5')"
   ]
  },
  {
   "cell_type": "code",
   "execution_count": 22,
   "metadata": {},
   "outputs": [
    {
     "data": {
      "text/plain": [
       "<AxesSubplot:>"
      ]
     },
     "execution_count": 22,
     "metadata": {},
     "output_type": "execute_result"
    },
    {
     "data": {
      "image/png": "[encoded data removed]",
      "text/plain": [
       "<Figure size 432x288 with 1 Axes>"
      ]
     },
     "metadata": {
      "needs_background": "light"
     },
     "output_type": "display_data"
    }
   ],
   "source": [
    "# Create a DataFrame containing training history\n",
    "history_df = pd.DataFrame(fit_mod.history, index=range(1,len(fit_mod.history[\"loss\"])+1))\n",
    "\n",
    "# Plot the loss\n",
    "history_df.plot(y=\"accuracy\")"
   ]
  },
  {
   "cell_type": "code",
   "execution_count": 23,
   "metadata": {},
   "outputs": [
    {
     "data": {
      "text/plain": [
       "<AxesSubplot:>"
      ]
     },
     "execution_count": 23,
     "metadata": {},
     "output_type": "execute_result"
    },
    {
     "data": {
      "image/png": "[encoded data removed]",
      "text/plain": [
       "<Figure size 432x288 with 1 Axes>"
      ]
     },
     "metadata": {
      "needs_background": "light"
     },
     "output_type": "display_data"
    }
   ],
   "source": [
    "history_df.plot(y=\"loss\")"
   ]
  },
  {
   "cell_type": "markdown",
   "metadata": {},
   "source": [
    "### Optimization Attempt 2\n",
    "\n",
    "1. Keep layer 3 \n",
    "2. increase number of neurons\n",
    "3. Change second layer activation to \"sigmoid\""
   ]
  },
  {
   "cell_type": "code",
   "execution_count": 24,
   "metadata": {},
   "outputs": [
    {
     "name": "stdout",
     "output_type": "stream",
     "text": [
      "Model: \"sequential_1\"\n",
      "_________________________________________________________________\n",
      " Layer (type)                Output Shape              Param #   \n",
      "=================================================================\n",
      " dense_4 (Dense)             (None, 40)                1680      \n",
      "                                                                 \n",
      " dense_5 (Dense)             (None, 20)                820       \n",
      "                                                                 \n",
      " dense_6 (Dense)             (None, 20)                420       \n",
      "                                                                 \n",
      " dense_7 (Dense)             (None, 1)                 21        \n",
      "                                                                 \n",
      "=================================================================\n",
      "Total params: 2,941\n",
      "Trainable params: 2,941\n",
      "Non-trainable params: 0\n",
      "_________________________________________________________________\n"
     ]
    }
   ],
   "source": [
    "# Define the model - deep neural net, i.e., the number of input features and hidden nodes for each layer.\n",
    "#  YOUR CODE GOES HERE\n",
    "number_input_features = len(X_train[0])\n",
    "hidden_nodes_layer1 =  40\n",
    "hidden_nodes_layer2 = 20\n",
    "hidden_nodes_layer3 = 20\n",
    "nn2 = tf.keras.models.Sequential()\n",
    "\n",
    "# First hidden layer\n",
    "#  YOUR CODE GOES HERE\n",
    "nn2.add(tf.keras.layers.Dense(units=hidden_nodes_layer1, input_dim=number_input_features, activation=\"sigmoid\"))\n",
    "# Second hidden layer\n",
    "#  YOUR CODE GOES HERE\n",
    "nn2.add(tf.keras.layers.Dense(units=hidden_nodes_layer2, activation=\"relu\"))\n",
    "#  YOUR CODE GOES HERE\n",
    "nn2.add(tf.keras.layers.Dense(units=hidden_nodes_layer3, activation=\"relu\"))\n",
    "# Output layer\n",
    "#  YOUR CODE GOES HERE\n",
    "nn2.add(tf.keras.layers.Dense(units=1, activation=\"sigmoid\"))\n",
    "# Check the structure of the model\n",
    "nn2.summary()"
   ]
  },
  {
   "cell_type": "code",
   "execution_count": 25,
   "metadata": {},
   "outputs": [],
   "source": [
    "# Compile the model\n",
    "#  YOUR CODE GOES HERE\n",
    "nn2.compile(loss=\"binary_crossentropy\", optimizer=\"adam\", metrics=[\"accuracy\"])\n"
   ]
  },
  {
   "cell_type": "code",
   "execution_count": 26,
   "metadata": {},
   "outputs": [
    {
     "name": "stdout",
     "output_type": "stream",
     "text": [
      "Epoch 1/50\n",
      "627/644 [============================>.] - ETA: 0s - loss: 0.6921 - accuracy: 0.5326\n",
      "Epoch 1: saving model to checkpoints\\weights.01.hdf5\n",
      "644/644 [==============================] - 3s 3ms/step - loss: 0.6923 - accuracy: 0.5320 - val_loss: 0.6913 - val_accuracy: 0.5310\n",
      "Epoch 2/50\n",
      "631/644 [============================>.] - ETA: 0s - loss: 0.6919 - accuracy: 0.5275\n",
      "Epoch 2: saving model to checkpoints\\weights.02.hdf5\n",
      "644/644 [==============================] - 2s 3ms/step - loss: 0.6919 - accuracy: 0.5278 - val_loss: 0.6923 - val_accuracy: 0.5310\n",
      "Epoch 3/50\n",
      "635/644 [============================>.] - ETA: 0s - loss: 0.6917 - accuracy: 0.5302\n",
      "Epoch 3: saving model to checkpoints\\weights.03.hdf5\n",
      "644/644 [==============================] - 2s 3ms/step - loss: 0.6917 - accuracy: 0.5302 - val_loss: 0.6914 - val_accuracy: 0.5310\n",
      "Epoch 4/50\n",
      "637/644 [============================>.] - ETA: 0s - loss: 0.6915 - accuracy: 0.5329\n",
      "Epoch 4: saving model to checkpoints\\weights.04.hdf5\n",
      "644/644 [==============================] - 2s 3ms/step - loss: 0.6916 - accuracy: 0.5324 - val_loss: 0.6912 - val_accuracy: 0.5310\n",
      "Epoch 5/50\n",
      "640/644 [============================>.] - ETA: 0s - loss: 0.6915 - accuracy: 0.5322\n",
      "Epoch 5: saving model to checkpoints\\weights.05.hdf5\n",
      "644/644 [==============================] - 2s 3ms/step - loss: 0.6914 - accuracy: 0.5324 - val_loss: 0.6913 - val_accuracy: 0.5310\n",
      "Epoch 6/50\n",
      "637/644 [============================>.] - ETA: 0s - loss: 0.6914 - accuracy: 0.5324\n",
      "Epoch 6: saving model to checkpoints\\weights.06.hdf5\n",
      "644/644 [==============================] - 2s 3ms/step - loss: 0.6914 - accuracy: 0.5324 - val_loss: 0.6912 - val_accuracy: 0.5310\n",
      "Epoch 7/50\n",
      "635/644 [============================>.] - ETA: 0s - loss: 0.6914 - accuracy: 0.5320\n",
      "Epoch 7: saving model to checkpoints\\weights.07.hdf5\n",
      "644/644 [==============================] - 2s 3ms/step - loss: 0.6913 - accuracy: 0.5324 - val_loss: 0.6914 - val_accuracy: 0.5310\n",
      "Epoch 8/50\n",
      "638/644 [============================>.] - ETA: 0s - loss: 0.6913 - accuracy: 0.5324\n",
      "Epoch 8: saving model to checkpoints\\weights.08.hdf5\n",
      "644/644 [==============================] - 2s 3ms/step - loss: 0.6912 - accuracy: 0.5324 - val_loss: 0.6914 - val_accuracy: 0.5310\n",
      "Epoch 9/50\n",
      "637/644 [============================>.] - ETA: 0s - loss: 0.6913 - accuracy: 0.5324\n",
      "Epoch 9: saving model to checkpoints\\weights.09.hdf5\n",
      "644/644 [==============================] - 2s 3ms/step - loss: 0.6913 - accuracy: 0.5324 - val_loss: 0.6914 - val_accuracy: 0.5310\n",
      "Epoch 10/50\n",
      "635/644 [============================>.] - ETA: 0s - loss: 0.6913 - accuracy: 0.5323\n",
      "Epoch 10: saving model to checkpoints\\weights.10.hdf5\n",
      "644/644 [==============================] - 2s 3ms/step - loss: 0.6913 - accuracy: 0.5324 - val_loss: 0.6916 - val_accuracy: 0.5310\n",
      "Epoch 11/50\n",
      "636/644 [============================>.] - ETA: 0s - loss: 0.6912 - accuracy: 0.5329\n",
      "Epoch 11: saving model to checkpoints\\weights.11.hdf5\n",
      "644/644 [==============================] - 2s 3ms/step - loss: 0.6912 - accuracy: 0.5324 - val_loss: 0.6913 - val_accuracy: 0.5310\n",
      "Epoch 12/50\n",
      "631/644 [============================>.] - ETA: 0s - loss: 0.6911 - accuracy: 0.5326\n",
      "Epoch 12: saving model to checkpoints\\weights.12.hdf5\n",
      "644/644 [==============================] - 2s 3ms/step - loss: 0.6912 - accuracy: 0.5324 - val_loss: 0.6912 - val_accuracy: 0.5310\n",
      "Epoch 13/50\n",
      "636/644 [============================>.] - ETA: 0s - loss: 0.6912 - accuracy: 0.5322\n",
      "Epoch 13: saving model to checkpoints\\weights.13.hdf5\n",
      "644/644 [==============================] - 2s 3ms/step - loss: 0.6912 - accuracy: 0.5324 - val_loss: 0.6912 - val_accuracy: 0.5310\n",
      "Epoch 14/50\n",
      "634/644 [============================>.] - ETA: 0s - loss: 0.6913 - accuracy: 0.5316\n",
      "Epoch 14: saving model to checkpoints\\weights.14.hdf5\n",
      "644/644 [==============================] - 2s 3ms/step - loss: 0.6911 - accuracy: 0.5324 - val_loss: 0.6914 - val_accuracy: 0.5310\n",
      "Epoch 15/50\n",
      "638/644 [============================>.] - ETA: 0s - loss: 0.6911 - accuracy: 0.5329\n",
      "Epoch 15: saving model to checkpoints\\weights.15.hdf5\n",
      "644/644 [==============================] - 2s 3ms/step - loss: 0.6911 - accuracy: 0.5324 - val_loss: 0.6913 - val_accuracy: 0.5310\n",
      "Epoch 16/50\n",
      "643/644 [============================>.] - ETA: 0s - loss: 0.6911 - accuracy: 0.5325\n",
      "Epoch 16: saving model to checkpoints\\weights.16.hdf5\n",
      "644/644 [==============================] - 2s 3ms/step - loss: 0.6911 - accuracy: 0.5324 - val_loss: 0.6912 - val_accuracy: 0.5310\n",
      "Epoch 17/50\n",
      "636/644 [============================>.] - ETA: 0s - loss: 0.6911 - accuracy: 0.5324\n",
      "Epoch 17: saving model to checkpoints\\weights.17.hdf5\n",
      "644/644 [==============================] - 2s 3ms/step - loss: 0.6911 - accuracy: 0.5324 - val_loss: 0.6912 - val_accuracy: 0.5310\n",
      "Epoch 18/50\n",
      "634/644 [============================>.] - ETA: 0s - loss: 0.6911 - accuracy: 0.5322\n",
      "Epoch 18: saving model to checkpoints\\weights.18.hdf5\n",
      "644/644 [==============================] - 2s 3ms/step - loss: 0.6911 - accuracy: 0.5324 - val_loss: 0.6912 - val_accuracy: 0.5310\n",
      "Epoch 19/50\n",
      "634/644 [============================>.] - ETA: 0s - loss: 0.6911 - accuracy: 0.5327\n",
      "Epoch 19: saving model to checkpoints\\weights.19.hdf5\n",
      "644/644 [==============================] - 2s 3ms/step - loss: 0.6911 - accuracy: 0.5324 - val_loss: 0.6913 - val_accuracy: 0.5310\n",
      "Epoch 20/50\n",
      "635/644 [============================>.] - ETA: 0s - loss: 0.6912 - accuracy: 0.5317\n",
      "Epoch 20: saving model to checkpoints\\weights.20.hdf5\n",
      "644/644 [==============================] - 2s 3ms/step - loss: 0.6911 - accuracy: 0.5324 - val_loss: 0.6912 - val_accuracy: 0.5310\n",
      "Epoch 21/50\n",
      "626/644 [============================>.] - ETA: 0s - loss: 0.6912 - accuracy: 0.5321\n",
      "Epoch 21: saving model to checkpoints\\weights.21.hdf5\n",
      "644/644 [==============================] - 2s 3ms/step - loss: 0.6912 - accuracy: 0.5324 - val_loss: 0.6912 - val_accuracy: 0.5310\n",
      "Epoch 22/50\n",
      "636/644 [============================>.] - ETA: 0s - loss: 0.6912 - accuracy: 0.5319\n",
      "Epoch 22: saving model to checkpoints\\weights.22.hdf5\n",
      "644/644 [==============================] - 2s 3ms/step - loss: 0.6911 - accuracy: 0.5324 - val_loss: 0.6912 - val_accuracy: 0.5310\n",
      "Epoch 23/50\n",
      "637/644 [============================>.] - ETA: 0s - loss: 0.6912 - accuracy: 0.5318\n",
      "Epoch 23: saving model to checkpoints\\weights.23.hdf5\n",
      "644/644 [==============================] - 2s 3ms/step - loss: 0.6911 - accuracy: 0.5324 - val_loss: 0.6912 - val_accuracy: 0.5310\n",
      "Epoch 24/50\n",
      "632/644 [============================>.] - ETA: 0s - loss: 0.6912 - accuracy: 0.5319\n",
      "Epoch 24: saving model to checkpoints\\weights.24.hdf5\n",
      "644/644 [==============================] - 2s 3ms/step - loss: 0.6911 - accuracy: 0.5324 - val_loss: 0.6912 - val_accuracy: 0.5310\n",
      "Epoch 25/50\n",
      "638/644 [============================>.] - ETA: 0s - loss: 0.6911 - accuracy: 0.5323\n",
      "Epoch 25: saving model to checkpoints\\weights.25.hdf5\n",
      "644/644 [==============================] - 2s 3ms/step - loss: 0.6911 - accuracy: 0.5324 - val_loss: 0.6912 - val_accuracy: 0.5310\n",
      "Epoch 26/50\n",
      "632/644 [============================>.] - ETA: 0s - loss: 0.6910 - accuracy: 0.5328\n",
      "Epoch 26: saving model to checkpoints\\weights.26.hdf5\n",
      "644/644 [==============================] - 2s 3ms/step - loss: 0.6911 - accuracy: 0.5324 - val_loss: 0.6913 - val_accuracy: 0.5310\n",
      "Epoch 27/50\n",
      "627/644 [============================>.] - ETA: 0s - loss: 0.6910 - accuracy: 0.5332\n",
      "Epoch 27: saving model to checkpoints\\weights.27.hdf5\n",
      "644/644 [==============================] - 2s 3ms/step - loss: 0.6911 - accuracy: 0.5324 - val_loss: 0.6913 - val_accuracy: 0.5310\n",
      "Epoch 28/50\n",
      "622/644 [===========================>..] - ETA: 0s - loss: 0.6910 - accuracy: 0.5334\n",
      "Epoch 28: saving model to checkpoints\\weights.28.hdf5\n",
      "644/644 [==============================] - 2s 3ms/step - loss: 0.6911 - accuracy: 0.5324 - val_loss: 0.6912 - val_accuracy: 0.5310\n",
      "Epoch 29/50\n",
      "625/644 [============================>.] - ETA: 0s - loss: 0.6910 - accuracy: 0.5335\n",
      "Epoch 29: saving model to checkpoints\\weights.29.hdf5\n",
      "644/644 [==============================] - 2s 3ms/step - loss: 0.6911 - accuracy: 0.5324 - val_loss: 0.6912 - val_accuracy: 0.5310\n",
      "Epoch 30/50\n"
     ]
    },
    {
     "name": "stdout",
     "output_type": "stream",
     "text": [
      "641/644 [============================>.] - ETA: 0s - loss: 0.6911 - accuracy: 0.5323\n",
      "Epoch 30: saving model to checkpoints\\weights.30.hdf5\n",
      "644/644 [==============================] - 2s 3ms/step - loss: 0.6911 - accuracy: 0.5324 - val_loss: 0.6912 - val_accuracy: 0.5310\n",
      "Epoch 31/50\n",
      "633/644 [============================>.] - ETA: 0s - loss: 0.6911 - accuracy: 0.5327\n",
      "Epoch 31: saving model to checkpoints\\weights.31.hdf5\n",
      "644/644 [==============================] - 2s 3ms/step - loss: 0.6911 - accuracy: 0.5324 - val_loss: 0.6912 - val_accuracy: 0.5310\n",
      "Epoch 32/50\n",
      "643/644 [============================>.] - ETA: 0s - loss: 0.6911 - accuracy: 0.5325\n",
      "Epoch 32: saving model to checkpoints\\weights.32.hdf5\n",
      "644/644 [==============================] - 2s 3ms/step - loss: 0.6911 - accuracy: 0.5324 - val_loss: 0.6912 - val_accuracy: 0.5310\n",
      "Epoch 33/50\n",
      "627/644 [============================>.] - ETA: 0s - loss: 0.6910 - accuracy: 0.5328\n",
      "Epoch 33: saving model to checkpoints\\weights.33.hdf5\n",
      "644/644 [==============================] - 2s 3ms/step - loss: 0.6911 - accuracy: 0.5324 - val_loss: 0.6912 - val_accuracy: 0.5310\n",
      "Epoch 34/50\n",
      "642/644 [============================>.] - ETA: 0s - loss: 0.6911 - accuracy: 0.5326\n",
      "Epoch 34: saving model to checkpoints\\weights.34.hdf5\n",
      "644/644 [==============================] - 2s 3ms/step - loss: 0.6911 - accuracy: 0.5324 - val_loss: 0.6913 - val_accuracy: 0.5310\n",
      "Epoch 35/50\n",
      "636/644 [============================>.] - ETA: 0s - loss: 0.6911 - accuracy: 0.5323\n",
      "Epoch 35: saving model to checkpoints\\weights.35.hdf5\n",
      "644/644 [==============================] - 2s 3ms/step - loss: 0.6911 - accuracy: 0.5324 - val_loss: 0.6913 - val_accuracy: 0.5310\n",
      "Epoch 36/50\n",
      "643/644 [============================>.] - ETA: 0s - loss: 0.6911 - accuracy: 0.5324\n",
      "Epoch 36: saving model to checkpoints\\weights.36.hdf5\n",
      "644/644 [==============================] - 2s 3ms/step - loss: 0.6911 - accuracy: 0.5324 - val_loss: 0.6912 - val_accuracy: 0.5310\n",
      "Epoch 37/50\n",
      "642/644 [============================>.] - ETA: 0s - loss: 0.6911 - accuracy: 0.5324\n",
      "Epoch 37: saving model to checkpoints\\weights.37.hdf5\n",
      "644/644 [==============================] - 2s 3ms/step - loss: 0.6911 - accuracy: 0.5324 - val_loss: 0.6912 - val_accuracy: 0.5310\n",
      "Epoch 38/50\n",
      "634/644 [============================>.] - ETA: 0s - loss: 0.6910 - accuracy: 0.5324\n",
      "Epoch 38: saving model to checkpoints\\weights.38.hdf5\n",
      "644/644 [==============================] - 2s 3ms/step - loss: 0.6910 - accuracy: 0.5324 - val_loss: 0.6915 - val_accuracy: 0.5310\n",
      "Epoch 39/50\n",
      "631/644 [============================>.] - ETA: 0s - loss: 0.6912 - accuracy: 0.5322\n",
      "Epoch 39: saving model to checkpoints\\weights.39.hdf5\n",
      "644/644 [==============================] - 2s 3ms/step - loss: 0.6912 - accuracy: 0.5324 - val_loss: 0.6912 - val_accuracy: 0.5310\n",
      "Epoch 40/50\n",
      "642/644 [============================>.] - ETA: 0s - loss: 0.6911 - accuracy: 0.5325\n",
      "Epoch 40: saving model to checkpoints\\weights.40.hdf5\n",
      "644/644 [==============================] - 2s 3ms/step - loss: 0.6911 - accuracy: 0.5324 - val_loss: 0.6913 - val_accuracy: 0.5310\n",
      "Epoch 41/50\n",
      "634/644 [============================>.] - ETA: 0s - loss: 0.6911 - accuracy: 0.5321\n",
      "Epoch 41: saving model to checkpoints\\weights.41.hdf5\n",
      "644/644 [==============================] - 2s 3ms/step - loss: 0.6911 - accuracy: 0.5324 - val_loss: 0.6913 - val_accuracy: 0.5310\n",
      "Epoch 42/50\n",
      "625/644 [============================>.] - ETA: 0s - loss: 0.6912 - accuracy: 0.5317\n",
      "Epoch 42: saving model to checkpoints\\weights.42.hdf5\n",
      "644/644 [==============================] - 2s 3ms/step - loss: 0.6911 - accuracy: 0.5324 - val_loss: 0.6912 - val_accuracy: 0.5310\n",
      "Epoch 43/50\n",
      "627/644 [============================>.] - ETA: 0s - loss: 0.6910 - accuracy: 0.5332\n",
      "Epoch 43: saving model to checkpoints\\weights.43.hdf5\n",
      "644/644 [==============================] - 2s 3ms/step - loss: 0.6911 - accuracy: 0.5324 - val_loss: 0.6912 - val_accuracy: 0.5310\n",
      "Epoch 44/50\n",
      "641/644 [============================>.] - ETA: 0s - loss: 0.6911 - accuracy: 0.5326\n",
      "Epoch 44: saving model to checkpoints\\weights.44.hdf5\n",
      "644/644 [==============================] - 2s 3ms/step - loss: 0.6911 - accuracy: 0.5324 - val_loss: 0.6912 - val_accuracy: 0.5310\n",
      "Epoch 45/50\n",
      "637/644 [============================>.] - ETA: 0s - loss: 0.6912 - accuracy: 0.5318\n",
      "Epoch 45: saving model to checkpoints\\weights.45.hdf5\n",
      "644/644 [==============================] - 2s 3ms/step - loss: 0.6911 - accuracy: 0.5324 - val_loss: 0.6913 - val_accuracy: 0.5310\n",
      "Epoch 46/50\n",
      "640/644 [============================>.] - ETA: 0s - loss: 0.6911 - accuracy: 0.5324\n",
      "Epoch 46: saving model to checkpoints\\weights.46.hdf5\n",
      "644/644 [==============================] - 3s 4ms/step - loss: 0.6911 - accuracy: 0.5324 - val_loss: 0.6913 - val_accuracy: 0.5310\n",
      "Epoch 47/50\n",
      "633/644 [============================>.] - ETA: 0s - loss: 0.6911 - accuracy: 0.5326\n",
      "Epoch 47: saving model to checkpoints\\weights.47.hdf5\n",
      "644/644 [==============================] - 3s 5ms/step - loss: 0.6911 - accuracy: 0.5324 - val_loss: 0.6912 - val_accuracy: 0.5310\n",
      "Epoch 48/50\n",
      "632/644 [============================>.] - ETA: 0s - loss: 0.6911 - accuracy: 0.5324\n",
      "Epoch 48: saving model to checkpoints\\weights.48.hdf5\n",
      "644/644 [==============================] - 3s 5ms/step - loss: 0.6911 - accuracy: 0.5324 - val_loss: 0.6912 - val_accuracy: 0.5310\n",
      "Epoch 49/50\n",
      "630/644 [============================>.] - ETA: 0s - loss: 0.6911 - accuracy: 0.5323\n",
      "Epoch 49: saving model to checkpoints\\weights.49.hdf5\n",
      "644/644 [==============================] - 3s 5ms/step - loss: 0.6911 - accuracy: 0.5324 - val_loss: 0.6912 - val_accuracy: 0.5310\n",
      "Epoch 50/50\n",
      "635/644 [============================>.] - ETA: 0s - loss: 0.6910 - accuracy: 0.5324\n",
      "Epoch 50: saving model to checkpoints\\weights.50.hdf5\n",
      "644/644 [==============================] - 2s 3ms/step - loss: 0.6910 - accuracy: 0.5324 - val_loss: 0.6914 - val_accuracy: 0.5310\n"
     ]
    }
   ],
   "source": [
    "# Train the model\n",
    "#  YOUR CODE GOES HERE\n",
    "fit_mod = nn2.fit(\n",
    "    X_train, y_train, epochs=50, callbacks=[cp_callback], validation_split=0.2\n",
    ")"
   ]
  },
  {
   "cell_type": "code",
   "execution_count": 27,
   "metadata": {},
   "outputs": [
    {
     "name": "stdout",
     "output_type": "stream",
     "text": [
      "268/268 - 1s - loss: 0.6905 - accuracy: 0.5332 - 545ms/epoch - 2ms/step\n",
      "Loss: 0.6904687881469727, Accuracy: 0.5331778526306152\n"
     ]
    }
   ],
   "source": [
    "# Evaluate the model using the test data\n",
    "model_loss, model_accuracy = nn2.evaluate(X_test_scaled,y_test,verbose=2)\n",
    "print(f\"Loss: {model_loss}, Accuracy: {model_accuracy}\")"
   ]
  },
  {
   "cell_type": "code",
   "execution_count": 28,
   "metadata": {},
   "outputs": [
    {
     "data": {
      "text/plain": [
       "<AxesSubplot:>"
      ]
     },
     "execution_count": 28,
     "metadata": {},
     "output_type": "execute_result"
    },
    {
     "data": {
      "image/png": "[encoded data removed]",
      "text/plain": [
       "<Figure size 432x288 with 1 Axes>"
      ]
     },
     "metadata": {
      "needs_background": "light"
     },
     "output_type": "display_data"
    }
   ],
   "source": [
    "# Create a DataFrame containing training history\n",
    "history_df = pd.DataFrame(fit_mod.history, index=range(1,len(fit_mod.history[\"loss\"])+1))\n",
    "\n",
    "# Plot the loss\n",
    "history_df.plot(y=\"accuracy\")"
   ]
  },
  {
   "cell_type": "code",
   "execution_count": 29,
   "metadata": {},
   "outputs": [
    {
     "data": {
      "text/plain": [
       "<AxesSubplot:>"
      ]
     },
     "execution_count": 29,
     "metadata": {},
     "output_type": "execute_result"
    },
    {
     "data": {
      "image/png": "[encoded data removed]",
      "text/plain": [
       "<Figure size 432x288 with 1 Axes>"
      ]
     },
     "metadata": {
      "needs_background": "light"
     },
     "output_type": "display_data"
    }
   ],
   "source": [
    "history_df.plot(y=\"loss\")"
   ]
  },
  {
   "cell_type": "code",
   "execution_count": 30,
   "metadata": {},
   "outputs": [],
   "source": [
    "nn2.save('AlphabetSoupCharity-opt2.h5')"
   ]
  },
  {
   "cell_type": "markdown",
   "metadata": {},
   "source": [
    "### Optimization Attempt 3\n",
    "1. Increase number of neurons further \n",
    "2. Remove layer 3\n",
    "2. Change the activation for layer 1 to \"relu\""
   ]
  },
  {
   "cell_type": "code",
   "execution_count": 31,
   "metadata": {},
   "outputs": [
    {
     "name": "stdout",
     "output_type": "stream",
     "text": [
      "Model: \"sequential_2\"\n",
      "_________________________________________________________________\n",
      " Layer (type)                Output Shape              Param #   \n",
      "=================================================================\n",
      " dense_8 (Dense)             (None, 100)               4200      \n",
      "                                                                 \n",
      " dense_9 (Dense)             (None, 80)                8080      \n",
      "                                                                 \n",
      " dense_10 (Dense)            (None, 1)                 81        \n",
      "                                                                 \n",
      "=================================================================\n",
      "Total params: 12,361\n",
      "Trainable params: 12,361\n",
      "Non-trainable params: 0\n",
      "_________________________________________________________________\n"
     ]
    }
   ],
   "source": [
    "# Define the model - deep neural net, i.e., the number of input features and hidden nodes for each layer.\n",
    "#  YOUR CODE GOES HERE\n",
    "number_input_features = len(X_train[0])\n",
    "hidden_nodes_layer1 = 100\n",
    "hidden_nodes_layer2 = 80\n",
    "nn3 = tf.keras.models.Sequential()\n",
    "\n",
    "# First hidden layer\n",
    "#  YOUR CODE GOES HERE\n",
    "nn3.add(tf.keras.layers.Dense(units=hidden_nodes_layer1, input_dim=number_input_features, activation=\"relu\"))\n",
    "# Second hidden layer\n",
    "#  YOUR CODE GOES HERE\n",
    "nn3.add(tf.keras.layers.Dense(units=hidden_nodes_layer2, activation=\"relu\"))\n",
    "# Output layer\n",
    "#  YOUR CODE GOES HERE\n",
    "nn3.add(tf.keras.layers.Dense(units=1, activation=\"sigmoid\"))\n",
    "# Check the structure of the model\n",
    "nn3.summary()"
   ]
  },
  {
   "cell_type": "code",
   "execution_count": 32,
   "metadata": {},
   "outputs": [],
   "source": [
    "# Compile the model\n",
    "#  YOUR CODE GOES HERE\n",
    "nn3.compile(loss=\"binary_crossentropy\", optimizer=\"adam\", metrics=[\"accuracy\"])"
   ]
  },
  {
   "cell_type": "code",
   "execution_count": 33,
   "metadata": {},
   "outputs": [
    {
     "name": "stdout",
     "output_type": "stream",
     "text": [
      "Epoch 1/50\n",
      "637/644 [============================>.] - ETA: 0s - loss: 136362.4062 - accuracy: 0.4911\n",
      "Epoch 1: saving model to checkpoints\\weights.01.hdf5\n",
      "644/644 [==============================] - 3s 4ms/step - loss: 137063.5625 - accuracy: 0.4912 - val_loss: 352412.8438 - val_accuracy: 0.5310\n",
      "Epoch 2/50\n",
      "640/644 [============================>.] - ETA: 0s - loss: 87079.6250 - accuracy: 0.5121\n",
      "Epoch 2: saving model to checkpoints\\weights.02.hdf5\n",
      "644/644 [==============================] - 2s 3ms/step - loss: 86667.6094 - accuracy: 0.5125 - val_loss: 2711.5381 - val_accuracy: 0.5310\n",
      "Epoch 3/50\n",
      "634/644 [============================>.] - ETA: 0s - loss: 67528.2031 - accuracy: 0.4840\n",
      "Epoch 3: saving model to checkpoints\\weights.03.hdf5\n",
      "644/644 [==============================] - 2s 3ms/step - loss: 66622.0078 - accuracy: 0.4838 - val_loss: 13110.7656 - val_accuracy: 0.4690\n",
      "Epoch 4/50\n",
      "644/644 [==============================] - ETA: 0s - loss: 5275.7256 - accuracy: 0.4952\n",
      "Epoch 4: saving model to checkpoints\\weights.04.hdf5\n",
      "644/644 [==============================] - 2s 3ms/step - loss: 5275.7256 - accuracy: 0.4952 - val_loss: 1535.6967 - val_accuracy: 0.4690\n",
      "Epoch 5/50\n",
      "623/644 [============================>.] - ETA: 0s - loss: 15691.6807 - accuracy: 0.4930\n",
      "Epoch 5: saving model to checkpoints\\weights.05.hdf5\n",
      "644/644 [==============================] - 2s 3ms/step - loss: 27928.6426 - accuracy: 0.4935 - val_loss: 286870.8750 - val_accuracy: 0.5310\n",
      "Epoch 6/50\n",
      "628/644 [============================>.] - ETA: 0s - loss: 53583.9922 - accuracy: 0.5032\n",
      "Epoch 6: saving model to checkpoints\\weights.06.hdf5\n",
      "644/644 [==============================] - 2s 3ms/step - loss: 52880.7070 - accuracy: 0.5027 - val_loss: 4452.3960 - val_accuracy: 0.4690\n",
      "Epoch 7/50\n",
      "640/644 [============================>.] - ETA: 0s - loss: 30370.0898 - accuracy: 0.5121\n",
      "Epoch 7: saving model to checkpoints\\weights.07.hdf5\n",
      "644/644 [==============================] - 2s 3ms/step - loss: 30225.6641 - accuracy: 0.5116 - val_loss: 9160.3379 - val_accuracy: 0.4690\n",
      "Epoch 8/50\n",
      "642/644 [============================>.] - ETA: 0s - loss: 8061.2656 - accuracy: 0.5084\n",
      "Epoch 8: saving model to checkpoints\\weights.08.hdf5\n",
      "644/644 [==============================] - 2s 4ms/step - loss: 8047.5630 - accuracy: 0.5085 - val_loss: 2438.1196 - val_accuracy: 0.4690\n",
      "Epoch 9/50\n",
      "640/644 [============================>.] - ETA: 0s - loss: 9778.4287 - accuracy: 0.4975\n",
      "Epoch 9: saving model to checkpoints\\weights.09.hdf5\n",
      "644/644 [==============================] - 3s 4ms/step - loss: 9731.9502 - accuracy: 0.4974 - val_loss: 1894.1481 - val_accuracy: 0.4690\n",
      "Epoch 10/50\n",
      "633/644 [============================>.] - ETA: 0s - loss: 2457.7473 - accuracy: 0.5055\n",
      "Epoch 10: saving model to checkpoints\\weights.10.hdf5\n",
      "644/644 [==============================] - 2s 3ms/step - loss: 2424.3943 - accuracy: 0.5052 - val_loss: 4252.0986 - val_accuracy: 0.4690\n",
      "Epoch 11/50\n",
      "628/644 [============================>.] - ETA: 0s - loss: 6470.5327 - accuracy: 0.4957\n",
      "Epoch 11: saving model to checkpoints\\weights.11.hdf5\n",
      "644/644 [==============================] - 2s 3ms/step - loss: 6322.7471 - accuracy: 0.4952 - val_loss: 55.1932 - val_accuracy: 0.5205\n",
      "Epoch 12/50\n",
      "625/644 [============================>.] - ETA: 0s - loss: 5235.3647 - accuracy: 0.5178\n",
      "Epoch 12: saving model to checkpoints\\weights.12.hdf5\n",
      "644/644 [==============================] - 3s 4ms/step - loss: 5088.0864 - accuracy: 0.5187 - val_loss: 0.6912 - val_accuracy: 0.5310\n",
      "Epoch 13/50\n",
      "643/644 [============================>.] - ETA: 0s - loss: 0.6911 - accuracy: 0.5324\n",
      "Epoch 13: saving model to checkpoints\\weights.13.hdf5\n",
      "644/644 [==============================] - 2s 3ms/step - loss: 0.6911 - accuracy: 0.5324 - val_loss: 0.6913 - val_accuracy: 0.5310\n",
      "Epoch 14/50\n",
      "628/644 [============================>.] - ETA: 0s - loss: 0.6912 - accuracy: 0.5315\n",
      "Epoch 14: saving model to checkpoints\\weights.14.hdf5\n",
      "644/644 [==============================] - 2s 3ms/step - loss: 0.6911 - accuracy: 0.5324 - val_loss: 0.6914 - val_accuracy: 0.5310\n",
      "Epoch 15/50\n",
      "640/644 [============================>.] - ETA: 0s - loss: 0.6912 - accuracy: 0.5329\n",
      "Epoch 15: saving model to checkpoints\\weights.15.hdf5\n",
      "644/644 [==============================] - 2s 3ms/step - loss: 0.6912 - accuracy: 0.5324 - val_loss: 0.6912 - val_accuracy: 0.5310\n",
      "Epoch 16/50\n",
      "640/644 [============================>.] - ETA: 0s - loss: 0.6912 - accuracy: 0.5322\n",
      "Epoch 16: saving model to checkpoints\\weights.16.hdf5\n",
      "644/644 [==============================] - 2s 3ms/step - loss: 0.6912 - accuracy: 0.5324 - val_loss: 0.6912 - val_accuracy: 0.5310\n",
      "Epoch 17/50\n",
      "637/644 [============================>.] - ETA: 0s - loss: 0.6912 - accuracy: 0.5324\n",
      "Epoch 17: saving model to checkpoints\\weights.17.hdf5\n",
      "644/644 [==============================] - 2s 3ms/step - loss: 0.6912 - accuracy: 0.5324 - val_loss: 0.6914 - val_accuracy: 0.5310\n",
      "Epoch 18/50\n",
      "633/644 [============================>.] - ETA: 0s - loss: 0.6912 - accuracy: 0.5323\n",
      "Epoch 18: saving model to checkpoints\\weights.18.hdf5\n",
      "644/644 [==============================] - 3s 4ms/step - loss: 0.6912 - accuracy: 0.5324 - val_loss: 0.6916 - val_accuracy: 0.5310\n",
      "Epoch 19/50\n",
      "631/644 [============================>.] - ETA: 0s - loss: 0.6912 - accuracy: 0.5328\n",
      "Epoch 19: saving model to checkpoints\\weights.19.hdf5\n",
      "644/644 [==============================] - 2s 3ms/step - loss: 0.6913 - accuracy: 0.5324 - val_loss: 0.6915 - val_accuracy: 0.5310\n",
      "Epoch 20/50\n",
      "635/644 [============================>.] - ETA: 0s - loss: 0.6912 - accuracy: 0.5330\n",
      "Epoch 20: saving model to checkpoints\\weights.20.hdf5\n",
      "644/644 [==============================] - 2s 4ms/step - loss: 0.6912 - accuracy: 0.5324 - val_loss: 0.6913 - val_accuracy: 0.5310\n",
      "Epoch 21/50\n",
      "634/644 [============================>.] - ETA: 0s - loss: 0.6912 - accuracy: 0.5329\n",
      "Epoch 21: saving model to checkpoints\\weights.21.hdf5\n",
      "644/644 [==============================] - 3s 4ms/step - loss: 0.6912 - accuracy: 0.5324 - val_loss: 0.6913 - val_accuracy: 0.5310\n",
      "Epoch 22/50\n",
      "642/644 [============================>.] - ETA: 0s - loss: 0.6913 - accuracy: 0.5324\n",
      "Epoch 22: saving model to checkpoints\\weights.22.hdf5\n",
      "644/644 [==============================] - 3s 4ms/step - loss: 0.6912 - accuracy: 0.5324 - val_loss: 0.6913 - val_accuracy: 0.5310\n",
      "Epoch 23/50\n",
      "640/644 [============================>.] - ETA: 0s - loss: 0.6913 - accuracy: 0.5319\n",
      "Epoch 23: saving model to checkpoints\\weights.23.hdf5\n",
      "644/644 [==============================] - 3s 4ms/step - loss: 0.6912 - accuracy: 0.5324 - val_loss: 0.6913 - val_accuracy: 0.5310\n",
      "Epoch 24/50\n",
      "643/644 [============================>.] - ETA: 0s - loss: 0.6913 - accuracy: 0.5325\n",
      "Epoch 24: saving model to checkpoints\\weights.24.hdf5\n",
      "644/644 [==============================] - 2s 3ms/step - loss: 0.6913 - accuracy: 0.5324 - val_loss: 0.6912 - val_accuracy: 0.5310\n",
      "Epoch 25/50\n",
      "632/644 [============================>.] - ETA: 0s - loss: 0.6912 - accuracy: 0.5325\n",
      "Epoch 25: saving model to checkpoints\\weights.25.hdf5\n",
      "644/644 [==============================] - 2s 3ms/step - loss: 0.6912 - accuracy: 0.5324 - val_loss: 0.6913 - val_accuracy: 0.5310\n",
      "Epoch 26/50\n",
      "627/644 [============================>.] - ETA: 0s - loss: 0.6914 - accuracy: 0.5315\n",
      "Epoch 26: saving model to checkpoints\\weights.26.hdf5\n",
      "644/644 [==============================] - 2s 3ms/step - loss: 0.6913 - accuracy: 0.5324 - val_loss: 0.6912 - val_accuracy: 0.5310\n",
      "Epoch 27/50\n",
      "630/644 [============================>.] - ETA: 0s - loss: 0.6911 - accuracy: 0.5321\n",
      "Epoch 27: saving model to checkpoints\\weights.27.hdf5\n",
      "644/644 [==============================] - 2s 4ms/step - loss: 0.6911 - accuracy: 0.5324 - val_loss: 0.6913 - val_accuracy: 0.5310\n",
      "Epoch 28/50\n",
      "638/644 [============================>.] - ETA: 0s - loss: 0.6911 - accuracy: 0.5326\n",
      "Epoch 28: saving model to checkpoints\\weights.28.hdf5\n",
      "644/644 [==============================] - 2s 3ms/step - loss: 0.6912 - accuracy: 0.5324 - val_loss: 0.6913 - val_accuracy: 0.5310\n",
      "Epoch 29/50\n",
      "632/644 [============================>.] - ETA: 0s - loss: 0.6912 - accuracy: 0.5323\n",
      "Epoch 29: saving model to checkpoints\\weights.29.hdf5\n",
      "644/644 [==============================] - 2s 3ms/step - loss: 0.6912 - accuracy: 0.5324 - val_loss: 0.6912 - val_accuracy: 0.5310\n"
     ]
    },
    {
     "name": "stdout",
     "output_type": "stream",
     "text": [
      "Epoch 30/50\n",
      "642/644 [============================>.] - ETA: 0s - loss: 0.6911 - accuracy: 0.5323\n",
      "Epoch 30: saving model to checkpoints\\weights.30.hdf5\n",
      "644/644 [==============================] - 2s 3ms/step - loss: 0.6911 - accuracy: 0.5324 - val_loss: 0.6919 - val_accuracy: 0.5310\n",
      "Epoch 31/50\n",
      "627/644 [============================>.] - ETA: 0s - loss: 0.6913 - accuracy: 0.5327\n",
      "Epoch 31: saving model to checkpoints\\weights.31.hdf5\n",
      "644/644 [==============================] - 2s 3ms/step - loss: 0.6913 - accuracy: 0.5324 - val_loss: 0.6912 - val_accuracy: 0.5310\n",
      "Epoch 32/50\n",
      "635/644 [============================>.] - ETA: 0s - loss: 0.6912 - accuracy: 0.5323\n",
      "Epoch 32: saving model to checkpoints\\weights.32.hdf5\n",
      "644/644 [==============================] - 2s 3ms/step - loss: 0.6912 - accuracy: 0.5324 - val_loss: 0.6914 - val_accuracy: 0.5310\n",
      "Epoch 33/50\n",
      "642/644 [============================>.] - ETA: 0s - loss: 0.6911 - accuracy: 0.5325\n",
      "Epoch 33: saving model to checkpoints\\weights.33.hdf5\n",
      "644/644 [==============================] - 2s 3ms/step - loss: 0.6911 - accuracy: 0.5324 - val_loss: 0.6913 - val_accuracy: 0.5310\n",
      "Epoch 34/50\n",
      "632/644 [============================>.] - ETA: 0s - loss: 0.6912 - accuracy: 0.5328\n",
      "Epoch 34: saving model to checkpoints\\weights.34.hdf5\n",
      "644/644 [==============================] - 2s 3ms/step - loss: 0.6912 - accuracy: 0.5324 - val_loss: 0.6913 - val_accuracy: 0.5310\n",
      "Epoch 35/50\n",
      "637/644 [============================>.] - ETA: 0s - loss: 0.6913 - accuracy: 0.5324\n",
      "Epoch 35: saving model to checkpoints\\weights.35.hdf5\n",
      "644/644 [==============================] - 2s 3ms/step - loss: 0.6912 - accuracy: 0.5324 - val_loss: 0.6913 - val_accuracy: 0.5310\n",
      "Epoch 36/50\n",
      "634/644 [============================>.] - ETA: 0s - loss: 0.6912 - accuracy: 0.5325\n",
      "Epoch 36: saving model to checkpoints\\weights.36.hdf5\n",
      "644/644 [==============================] - 2s 3ms/step - loss: 0.6912 - accuracy: 0.5324 - val_loss: 0.6912 - val_accuracy: 0.5310\n",
      "Epoch 37/50\n",
      "628/644 [============================>.] - ETA: 0s - loss: 0.6912 - accuracy: 0.5326\n",
      "Epoch 37: saving model to checkpoints\\weights.37.hdf5\n",
      "644/644 [==============================] - 2s 4ms/step - loss: 0.6912 - accuracy: 0.5324 - val_loss: 0.6912 - val_accuracy: 0.5310\n",
      "Epoch 38/50\n",
      "629/644 [============================>.] - ETA: 0s - loss: 0.6911 - accuracy: 0.5326\n",
      "Epoch 38: saving model to checkpoints\\weights.38.hdf5\n",
      "644/644 [==============================] - 2s 4ms/step - loss: 0.6911 - accuracy: 0.5324 - val_loss: 0.6916 - val_accuracy: 0.5310\n",
      "Epoch 39/50\n",
      "642/644 [============================>.] - ETA: 0s - loss: 0.6913 - accuracy: 0.5323\n",
      "Epoch 39: saving model to checkpoints\\weights.39.hdf5\n",
      "644/644 [==============================] - 2s 3ms/step - loss: 0.6912 - accuracy: 0.5324 - val_loss: 0.6912 - val_accuracy: 0.5310\n",
      "Epoch 40/50\n",
      "625/644 [============================>.] - ETA: 0s - loss: 0.6912 - accuracy: 0.5324\n",
      "Epoch 40: saving model to checkpoints\\weights.40.hdf5\n",
      "644/644 [==============================] - 2s 3ms/step - loss: 0.6912 - accuracy: 0.5324 - val_loss: 0.6914 - val_accuracy: 0.5310\n",
      "Epoch 41/50\n",
      "625/644 [============================>.] - ETA: 0s - loss: 0.6913 - accuracy: 0.5325\n",
      "Epoch 41: saving model to checkpoints\\weights.41.hdf5\n",
      "644/644 [==============================] - 2s 3ms/step - loss: 0.6913 - accuracy: 0.5324 - val_loss: 0.6912 - val_accuracy: 0.5310\n",
      "Epoch 42/50\n",
      "644/644 [==============================] - ETA: 0s - loss: 0.6913 - accuracy: 0.5324\n",
      "Epoch 42: saving model to checkpoints\\weights.42.hdf5\n",
      "644/644 [==============================] - 2s 3ms/step - loss: 0.6913 - accuracy: 0.5324 - val_loss: 0.6913 - val_accuracy: 0.5310\n",
      "Epoch 43/50\n",
      "636/644 [============================>.] - ETA: 0s - loss: 0.6912 - accuracy: 0.5324\n",
      "Epoch 43: saving model to checkpoints\\weights.43.hdf5\n",
      "644/644 [==============================] - 2s 3ms/step - loss: 0.6912 - accuracy: 0.5324 - val_loss: 0.6913 - val_accuracy: 0.5310\n",
      "Epoch 44/50\n",
      "629/644 [============================>.] - ETA: 0s - loss: 0.6912 - accuracy: 0.5323\n",
      "Epoch 44: saving model to checkpoints\\weights.44.hdf5\n",
      "644/644 [==============================] - 2s 3ms/step - loss: 0.6912 - accuracy: 0.5324 - val_loss: 0.6915 - val_accuracy: 0.5310\n",
      "Epoch 45/50\n",
      "638/644 [============================>.] - ETA: 0s - loss: 0.6912 - accuracy: 0.5324\n",
      "Epoch 45: saving model to checkpoints\\weights.45.hdf5\n",
      "644/644 [==============================] - 2s 3ms/step - loss: 0.6912 - accuracy: 0.5324 - val_loss: 0.6913 - val_accuracy: 0.5310\n",
      "Epoch 46/50\n",
      "643/644 [============================>.] - ETA: 0s - loss: 0.6912 - accuracy: 0.5325\n",
      "Epoch 46: saving model to checkpoints\\weights.46.hdf5\n",
      "644/644 [==============================] - 2s 3ms/step - loss: 0.6912 - accuracy: 0.5324 - val_loss: 0.6917 - val_accuracy: 0.5310\n",
      "Epoch 47/50\n",
      "628/644 [============================>.] - ETA: 0s - loss: 0.6911 - accuracy: 0.5321\n",
      "Epoch 47: saving model to checkpoints\\weights.47.hdf5\n",
      "644/644 [==============================] - 2s 3ms/step - loss: 0.6911 - accuracy: 0.5324 - val_loss: 0.6927 - val_accuracy: 0.5310\n",
      "Epoch 48/50\n",
      "632/644 [============================>.] - ETA: 0s - loss: 0.6913 - accuracy: 0.5323\n",
      "Epoch 48: saving model to checkpoints\\weights.48.hdf5\n",
      "644/644 [==============================] - 2s 3ms/step - loss: 0.6913 - accuracy: 0.5324 - val_loss: 0.6913 - val_accuracy: 0.5310\n",
      "Epoch 49/50\n",
      "629/644 [============================>.] - ETA: 0s - loss: 0.6911 - accuracy: 0.5336\n",
      "Epoch 49: saving model to checkpoints\\weights.49.hdf5\n",
      "644/644 [==============================] - 2s 3ms/step - loss: 0.6912 - accuracy: 0.5324 - val_loss: 0.6916 - val_accuracy: 0.5310\n",
      "Epoch 50/50\n",
      "642/644 [============================>.] - ETA: 0s - loss: 0.6913 - accuracy: 0.5325\n",
      "Epoch 50: saving model to checkpoints\\weights.50.hdf5\n",
      "644/644 [==============================] - 2s 3ms/step - loss: 0.6913 - accuracy: 0.5324 - val_loss: 0.6913 - val_accuracy: 0.5310\n"
     ]
    }
   ],
   "source": [
    "# Train the model\n",
    "#  YOUR CODE GOES HERE\n",
    "fit_mod = nn3.fit(\n",
    "    X_train, y_train, epochs=50, callbacks=[cp_callback], validation_split=0.2\n",
    ")"
   ]
  },
  {
   "cell_type": "code",
   "execution_count": 34,
   "metadata": {},
   "outputs": [
    {
     "name": "stdout",
     "output_type": "stream",
     "text": [
      "268/268 - 0s - loss: 0.6483 - accuracy: 0.6166 - 491ms/epoch - 2ms/step\n",
      "Loss: 0.6482833623886108, Accuracy: 0.6165597438812256\n"
     ]
    }
   ],
   "source": [
    "# Evaluate the model using the test data\n",
    "model_loss, model_accuracy = nn3.evaluate(X_test_scaled,y_test,verbose=2)\n",
    "print(f\"Loss: {model_loss}, Accuracy: {model_accuracy}\")"
   ]
  },
  {
   "cell_type": "code",
   "execution_count": 35,
   "metadata": {},
   "outputs": [
    {
     "data": {
      "text/plain": [
       "<AxesSubplot:>"
      ]
     },
     "execution_count": 35,
     "metadata": {},
     "output_type": "execute_result"
    },
    {
     "data": {
      "image/png": "[encoded data removed]",
      "text/plain": [
       "<Figure size 432x288 with 1 Axes>"
      ]
     },
     "metadata": {
      "needs_background": "light"
     },
     "output_type": "display_data"
    }
   ],
   "source": [
    "# Create a DataFrame containing training history\n",
    "history_df = pd.DataFrame(fit_mod.history, index=range(1,len(fit_mod.history[\"loss\"])+1))\n",
    "\n",
    "# Plot the loss\n",
    "history_df.plot(y=\"accuracy\")"
   ]
  },
  {
   "cell_type": "code",
   "execution_count": 36,
   "metadata": {},
   "outputs": [
    {
     "data": {
      "text/plain": [
       "<AxesSubplot:>"
      ]
     },
     "execution_count": 36,
     "metadata": {},
     "output_type": "execute_result"
    },
    {
     "data": {
      "image/png": "[encoded data removed]",
      "text/plain": [
       "<Figure size 432x288 with 1 Axes>"
      ]
     },
     "metadata": {
      "needs_background": "light"
     },
     "output_type": "display_data"
    }
   ],
   "source": [
    "history_df.plot(y=\"loss\")"
   ]
  },
  {
   "cell_type": "code",
   "execution_count": 37,
   "metadata": {},
   "outputs": [],
   "source": [
    "nn3.save('AlphabetSoupCharity-opt3.h5')"
   ]
  },
  {
   "cell_type": "code",
   "execution_count": null,
   "metadata": {},
   "outputs": [],
   "source": []
  }
 ],
 "metadata": {
  "kernelspec": {
   "display_name": "PythonData",
   "language": "python",
   "name": "pythondata"
  },
  "language_info": {
   "codemirror_mode": {
    "name": "ipython",
    "version": 3
   },
   "file_extension": ".py",
   "mimetype": "text/x-python",
   "name": "python",
   "nbconvert_exporter": "python",
   "pygments_lexer": "ipython3",
   "version": "3.7.11"
  }
 },
 "nbformat": 4,
 "nbformat_minor": 2
}
